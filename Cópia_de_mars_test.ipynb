{
 "cells": [
  {
   "cell_type": "code",
   "execution_count": 1,
   "metadata": {
    "id": "1DJ0pk-l0rtf",
    "pycharm": {
     "name": "#%%\n"
    }
   },
   "outputs": [
    {
     "ename": "ModuleNotFoundError",
     "evalue": "No module named 'torch.autocast_mode'",
     "output_type": "error",
     "traceback": [
      "\u001B[1;31m---------------------------------------------------------------------------\u001B[0m",
      "\u001B[1;31mModuleNotFoundError\u001B[0m                       Traceback (most recent call last)",
      "\u001B[1;32m<ipython-input-1-7ee1b0117377>\u001B[0m in \u001B[0;36m<module>\u001B[1;34m\u001B[0m\n\u001B[1;32m----> 1\u001B[1;33m \u001B[1;32mfrom\u001B[0m \u001B[0mmars_gym\u001B[0m\u001B[1;33m.\u001B[0m\u001B[0mdata\u001B[0m \u001B[1;32mimport\u001B[0m \u001B[0mutils\u001B[0m\u001B[1;33m\u001B[0m\u001B[1;33m\u001B[0m\u001B[0m\n\u001B[0m",
      "\u001B[1;32m~\\anaconda3\\envs\\mars-gym\\lib\\site-packages\\mars_gym\\__init__.py\u001B[0m in \u001B[0;36m<module>\u001B[1;34m\u001B[0m\n\u001B[0;32m      1\u001B[0m \u001B[0m__version__\u001B[0m \u001B[1;33m=\u001B[0m \u001B[1;34m'0.1.0'\u001B[0m\u001B[1;33m\u001B[0m\u001B[1;33m\u001B[0m\u001B[0m\n\u001B[0;32m      2\u001B[0m \u001B[1;33m\u001B[0m\u001B[0m\n\u001B[1;32m----> 3\u001B[1;33m \u001B[1;32mimport\u001B[0m \u001B[0mmars_gym\u001B[0m\u001B[1;33m.\u001B[0m\u001B[0mtorch\u001B[0m\u001B[1;33m.\u001B[0m\u001B[0mmetrics\u001B[0m\u001B[1;33m\u001B[0m\u001B[1;33m\u001B[0m\u001B[0m\n\u001B[0m",
      "\u001B[1;32m~\\anaconda3\\envs\\mars-gym\\lib\\site-packages\\mars_gym\\torch\\metrics.py\u001B[0m in \u001B[0;36m<module>\u001B[1;34m\u001B[0m\n\u001B[0;32m      1\u001B[0m \u001B[1;32mfrom\u001B[0m \u001B[0mtyping\u001B[0m \u001B[1;32mimport\u001B[0m \u001B[0mSequence\u001B[0m\u001B[1;33m\u001B[0m\u001B[1;33m\u001B[0m\u001B[0m\n\u001B[0;32m      2\u001B[0m \u001B[1;33m\u001B[0m\u001B[0m\n\u001B[1;32m----> 3\u001B[1;33m \u001B[1;32mimport\u001B[0m \u001B[0mtorch\u001B[0m\u001B[1;33m\u001B[0m\u001B[1;33m\u001B[0m\u001B[0m\n\u001B[0m\u001B[0;32m      4\u001B[0m \u001B[1;32mimport\u001B[0m \u001B[0mtorchbearer\u001B[0m\u001B[1;33m\u001B[0m\u001B[1;33m\u001B[0m\u001B[0m\n\u001B[0;32m      5\u001B[0m \u001B[1;32mfrom\u001B[0m \u001B[0mtorchbearer\u001B[0m \u001B[1;32mimport\u001B[0m \u001B[0mmetrics\u001B[0m\u001B[1;33m,\u001B[0m \u001B[0mMetric\u001B[0m\u001B[1;33m\u001B[0m\u001B[1;33m\u001B[0m\u001B[0m\n",
      "\u001B[1;32m~\\anaconda3\\envs\\mars-gym\\lib\\site-packages\\torch\\__init__.py\u001B[0m in \u001B[0;36m<module>\u001B[1;34m\u001B[0m\n\u001B[0;32m     16\u001B[0m \u001B[1;32mimport\u001B[0m \u001B[0mctypes\u001B[0m\u001B[1;33m\u001B[0m\u001B[1;33m\u001B[0m\u001B[0m\n\u001B[0;32m     17\u001B[0m \u001B[1;32mimport\u001B[0m \u001B[0mwarnings\u001B[0m\u001B[1;33m\u001B[0m\u001B[1;33m\u001B[0m\u001B[0m\n\u001B[1;32m---> 18\u001B[1;33m \u001B[1;32mfrom\u001B[0m \u001B[1;33m.\u001B[0m\u001B[0mautocast_mode\u001B[0m \u001B[1;32mimport\u001B[0m \u001B[0mautocast\u001B[0m\u001B[1;33m\u001B[0m\u001B[1;33m\u001B[0m\u001B[0m\n\u001B[0m\u001B[0;32m     19\u001B[0m \u001B[1;32mif\u001B[0m \u001B[0msys\u001B[0m\u001B[1;33m.\u001B[0m\u001B[0mversion_info\u001B[0m \u001B[1;33m<\u001B[0m \u001B[1;33m(\u001B[0m\u001B[1;36m3\u001B[0m\u001B[1;33m,\u001B[0m\u001B[1;33m)\u001B[0m\u001B[1;33m:\u001B[0m\u001B[1;33m\u001B[0m\u001B[1;33m\u001B[0m\u001B[0m\n\u001B[0;32m     20\u001B[0m     \u001B[1;32mraise\u001B[0m \u001B[0mException\u001B[0m\u001B[1;33m(\u001B[0m\u001B[1;34m\"Python 2 has reached end-of-life and is no longer supported by PyTorch.\"\u001B[0m\u001B[1;33m)\u001B[0m\u001B[1;33m\u001B[0m\u001B[1;33m\u001B[0m\u001B[0m\n",
      "\u001B[1;31mModuleNotFoundError\u001B[0m: No module named 'torch.autocast_mode'"
     ]
    }
   ],
   "source": [
    "from mars_gym.data import utils"
   ]
  },
  {
   "cell_type": "code",
   "execution_count": null,
   "metadata": {
    "colab": {
     "base_uri": "https://localhost:8080/"
    },
    "id": "u6meTacy1_2S",
    "outputId": "b8c53769-a9e1-490a-ed03-a150e6eb240e",
    "pycharm": {
     "name": "#%%\n"
    }
   },
   "outputs": [],
   "source": [
    "utils.datasets()"
   ]
  },
  {
   "cell_type": "code",
   "execution_count": 3,
   "metadata": {
    "id": "Bw_ePPnP2MMd",
    "pycharm": {
     "name": "#%%\n"
    }
   },
   "outputs": [
    {
     "name": "stderr",
     "output_type": "stream",
     "text": [
      "3.55kKB [00:02, 1.55kKB/s]                           \n",
      "605KB [00:00, 842KB/s]                          \n"
     ]
    }
   ],
   "source": [
    "df, df_metadata = utils.load_dataset('processed_trivago_rio')"
   ]
  },
  {
   "cell_type": "code",
   "execution_count": 4,
   "metadata": {
    "colab": {
     "base_uri": "https://localhost:8080/",
     "height": 52
    },
    "id": "ZHb6Fsgfx6yp",
    "outputId": "640b9333-3703-4ff0-e67d-217e10d018b7",
    "pycharm": {
     "name": "#%%\n"
    }
   },
   "outputs": [
    {
     "data": {
      "text/plain": [
       "\"['109351', '150138', '4345728', '105014', '478121', '104677', '4342016', '4304686', '5066908', '5493194', '104917', '5659850', '104789', '1223390', '2788294', '104765', '1477057', '153550', '5660226', '3497814', '4155306', '960255', '5196406', '829671', '5497220']\""
      ]
     },
     "execution_count": 4,
     "metadata": {},
     "output_type": "execute_result"
    }
   ],
   "source": [
    "df.loc[0,'impressions']"
   ]
  },
  {
   "cell_type": "code",
   "execution_count": 5,
   "metadata": {
    "id": "5-aoX1yZxmBQ",
    "pycharm": {
     "name": "#%%\n"
    }
   },
   "outputs": [],
   "source": [
    "df_metadata = df_metadata.iloc[:,1:].copy()"
   ]
  },
  {
   "cell_type": "code",
   "execution_count": 6,
   "metadata": {
    "colab": {
     "base_uri": "https://localhost:8080/",
     "height": 508
    },
    "id": "uSTD8IBowRXO",
    "outputId": "8c82ef1d-95b9-4905-ed8d-d6186ee7a204",
    "pycharm": {
     "name": "#%%\n"
    }
   },
   "outputs": [
    {
     "data": {
      "text/html": [
       "<div>\n",
       "<style scoped>\n",
       "    .dataframe tbody tr th:only-of-type {\n",
       "        vertical-align: middle;\n",
       "    }\n",
       "\n",
       "    .dataframe tbody tr th {\n",
       "        vertical-align: top;\n",
       "    }\n",
       "\n",
       "    .dataframe thead th {\n",
       "        text-align: right;\n",
       "    }\n",
       "</style>\n",
       "<table border=\"1\" class=\"dataframe\">\n",
       "  <thead>\n",
       "    <tr style=\"text-align: right;\">\n",
       "      <th></th>\n",
       "      <th>item_id</th>\n",
       "      <th>1 star</th>\n",
       "      <th>2 star</th>\n",
       "      <th>3 star</th>\n",
       "      <th>4 star</th>\n",
       "      <th>5 star</th>\n",
       "      <th>accessible hotel</th>\n",
       "      <th>accessible parking</th>\n",
       "      <th>adults only</th>\n",
       "      <th>air conditioning</th>\n",
       "      <th>...</th>\n",
       "      <th>terrace (hotel)</th>\n",
       "      <th>theme hotel</th>\n",
       "      <th>towels</th>\n",
       "      <th>very good rating</th>\n",
       "      <th>volleyball</th>\n",
       "      <th>washing machine</th>\n",
       "      <th>wheelchair accessible</th>\n",
       "      <th>wifi (public areas)</th>\n",
       "      <th>wifi (rooms)</th>\n",
       "      <th>list_metadata</th>\n",
       "    </tr>\n",
       "  </thead>\n",
       "  <tbody>\n",
       "    <tr>\n",
       "      <th>0</th>\n",
       "      <td>3217002</td>\n",
       "      <td>0</td>\n",
       "      <td>0</td>\n",
       "      <td>0</td>\n",
       "      <td>0</td>\n",
       "      <td>0</td>\n",
       "      <td>0</td>\n",
       "      <td>0</td>\n",
       "      <td>0</td>\n",
       "      <td>1</td>\n",
       "      <td>...</td>\n",
       "      <td>1</td>\n",
       "      <td>0</td>\n",
       "      <td>0</td>\n",
       "      <td>1</td>\n",
       "      <td>0</td>\n",
       "      <td>0</td>\n",
       "      <td>0</td>\n",
       "      <td>1</td>\n",
       "      <td>1</td>\n",
       "      <td>[0, 0, 0, 0, 0, 0, 0, 0, 1, 0, 0, 0, 0, 1, 0, ...</td>\n",
       "    </tr>\n",
       "    <tr>\n",
       "      <th>1</th>\n",
       "      <td>3486086</td>\n",
       "      <td>0</td>\n",
       "      <td>0</td>\n",
       "      <td>0</td>\n",
       "      <td>0</td>\n",
       "      <td>0</td>\n",
       "      <td>0</td>\n",
       "      <td>0</td>\n",
       "      <td>0</td>\n",
       "      <td>0</td>\n",
       "      <td>...</td>\n",
       "      <td>0</td>\n",
       "      <td>0</td>\n",
       "      <td>0</td>\n",
       "      <td>0</td>\n",
       "      <td>0</td>\n",
       "      <td>0</td>\n",
       "      <td>0</td>\n",
       "      <td>0</td>\n",
       "      <td>0</td>\n",
       "      <td>[0, 0, 0, 0, 0, 0, 0, 0, 0, 0, 0, 0, 0, 0, 0, ...</td>\n",
       "    </tr>\n",
       "    <tr>\n",
       "      <th>2</th>\n",
       "      <td>5497220</td>\n",
       "      <td>0</td>\n",
       "      <td>0</td>\n",
       "      <td>0</td>\n",
       "      <td>1</td>\n",
       "      <td>0</td>\n",
       "      <td>1</td>\n",
       "      <td>0</td>\n",
       "      <td>0</td>\n",
       "      <td>1</td>\n",
       "      <td>...</td>\n",
       "      <td>0</td>\n",
       "      <td>0</td>\n",
       "      <td>0</td>\n",
       "      <td>1</td>\n",
       "      <td>0</td>\n",
       "      <td>0</td>\n",
       "      <td>1</td>\n",
       "      <td>1</td>\n",
       "      <td>1</td>\n",
       "      <td>[0, 0, 0, 1, 0, 1, 0, 0, 1, 0, 0, 0, 1, 1, 0, ...</td>\n",
       "    </tr>\n",
       "    <tr>\n",
       "      <th>3</th>\n",
       "      <td>6551710</td>\n",
       "      <td>0</td>\n",
       "      <td>0</td>\n",
       "      <td>0</td>\n",
       "      <td>0</td>\n",
       "      <td>0</td>\n",
       "      <td>0</td>\n",
       "      <td>0</td>\n",
       "      <td>1</td>\n",
       "      <td>0</td>\n",
       "      <td>...</td>\n",
       "      <td>1</td>\n",
       "      <td>0</td>\n",
       "      <td>0</td>\n",
       "      <td>0</td>\n",
       "      <td>0</td>\n",
       "      <td>1</td>\n",
       "      <td>0</td>\n",
       "      <td>0</td>\n",
       "      <td>1</td>\n",
       "      <td>[0, 0, 0, 0, 0, 0, 0, 1, 0, 1, 0, 1, 0, 0, 0, ...</td>\n",
       "    </tr>\n",
       "    <tr>\n",
       "      <th>4</th>\n",
       "      <td>6680288</td>\n",
       "      <td>0</td>\n",
       "      <td>0</td>\n",
       "      <td>0</td>\n",
       "      <td>0</td>\n",
       "      <td>0</td>\n",
       "      <td>0</td>\n",
       "      <td>0</td>\n",
       "      <td>0</td>\n",
       "      <td>1</td>\n",
       "      <td>...</td>\n",
       "      <td>1</td>\n",
       "      <td>0</td>\n",
       "      <td>0</td>\n",
       "      <td>1</td>\n",
       "      <td>0</td>\n",
       "      <td>1</td>\n",
       "      <td>0</td>\n",
       "      <td>1</td>\n",
       "      <td>1</td>\n",
       "      <td>[0, 0, 0, 0, 0, 0, 0, 0, 1, 1, 0, 1, 0, 1, 0, ...</td>\n",
       "    </tr>\n",
       "  </tbody>\n",
       "</table>\n",
       "<p>5 rows × 150 columns</p>\n",
       "</div>"
      ],
      "text/plain": [
       "   item_id  1 star  2 star  3 star  4 star  5 star  accessible hotel  \\\n",
       "0  3217002       0       0       0       0       0                 0   \n",
       "1  3486086       0       0       0       0       0                 0   \n",
       "2  5497220       0       0       0       1       0                 1   \n",
       "3  6551710       0       0       0       0       0                 0   \n",
       "4  6680288       0       0       0       0       0                 0   \n",
       "\n",
       "   accessible parking  adults only  air conditioning  ...  terrace (hotel)  \\\n",
       "0                   0            0                 1  ...                1   \n",
       "1                   0            0                 0  ...                0   \n",
       "2                   0            0                 1  ...                0   \n",
       "3                   0            1                 0  ...                1   \n",
       "4                   0            0                 1  ...                1   \n",
       "\n",
       "   theme hotel  towels  very good rating  volleyball  washing machine  \\\n",
       "0            0       0                 1           0                0   \n",
       "1            0       0                 0           0                0   \n",
       "2            0       0                 1           0                0   \n",
       "3            0       0                 0           0                1   \n",
       "4            0       0                 1           0                1   \n",
       "\n",
       "   wheelchair accessible  wifi (public areas)  wifi (rooms)  \\\n",
       "0                      0                    1             1   \n",
       "1                      0                    0             0   \n",
       "2                      1                    1             1   \n",
       "3                      0                    0             1   \n",
       "4                      0                    1             1   \n",
       "\n",
       "                                       list_metadata  \n",
       "0  [0, 0, 0, 0, 0, 0, 0, 0, 1, 0, 0, 0, 0, 1, 0, ...  \n",
       "1  [0, 0, 0, 0, 0, 0, 0, 0, 0, 0, 0, 0, 0, 0, 0, ...  \n",
       "2  [0, 0, 0, 1, 0, 1, 0, 0, 1, 0, 0, 0, 1, 1, 0, ...  \n",
       "3  [0, 0, 0, 0, 0, 0, 0, 1, 0, 1, 0, 1, 0, 0, 0, ...  \n",
       "4  [0, 0, 0, 0, 0, 0, 0, 0, 1, 1, 0, 1, 0, 1, 0, ...  \n",
       "\n",
       "[5 rows x 150 columns]"
      ]
     },
     "execution_count": 6,
     "metadata": {},
     "output_type": "execute_result"
    }
   ],
   "source": [
    "df_metadata.head()"
   ]
  },
  {
   "cell_type": "code",
   "execution_count": 7,
   "metadata": {
    "colab": {
     "base_uri": "https://localhost:8080/"
    },
    "id": "2UiX9G4BxY4v",
    "outputId": "31b51b3d-5c02-469e-c0ea-61febb14fe24",
    "pycharm": {
     "name": "#%%\n"
    }
   },
   "outputs": [
    {
     "data": {
      "text/plain": [
       "Index(['session_id', 'user_id', 'timestamp', 'action_type', 'item_id',\n",
       "       'impressions', 'list_reference_item', 'pos_item_id', 'clicked'],\n",
       "      dtype='object')"
      ]
     },
     "execution_count": 7,
     "metadata": {},
     "output_type": "execute_result"
    }
   ],
   "source": [
    "df.columns"
   ]
  },
  {
   "cell_type": "code",
   "execution_count": 8,
   "metadata": {
    "colab": {
     "base_uri": "https://localhost:8080/"
    },
    "id": "H4rUqsGYxadw",
    "outputId": "16b32b6d-447f-4099-f011-8d5b044ed87e",
    "pycharm": {
     "name": "#%%\n"
    }
   },
   "outputs": [
    {
     "data": {
      "text/plain": [
       "['item_id',\n",
       " '1 star',\n",
       " '2 star',\n",
       " '3 star',\n",
       " '4 star',\n",
       " '5 star',\n",
       " 'accessible hotel',\n",
       " 'accessible parking',\n",
       " 'adults only',\n",
       " 'air conditioning',\n",
       " 'airport hotel',\n",
       " 'airport shuttle',\n",
       " 'balcony',\n",
       " 'bathtub',\n",
       " 'beach',\n",
       " 'beach bar',\n",
       " 'beauty salon',\n",
       " 'bed & breakfast',\n",
       " 'bike rental',\n",
       " 'boat rental',\n",
       " 'body treatments',\n",
       " 'boutique hotel',\n",
       " 'bowling',\n",
       " 'bungalows',\n",
       " 'business centre',\n",
       " 'business hotel',\n",
       " 'cable tv',\n",
       " 'car park',\n",
       " 'casa rural (es)',\n",
       " 'central heating',\n",
       " 'childcare',\n",
       " 'club hotel',\n",
       " 'computer with internet',\n",
       " 'concierge',\n",
       " 'conference rooms',\n",
       " 'convenience store',\n",
       " 'convention hotel',\n",
       " 'cosmetic mirror',\n",
       " 'cot',\n",
       " 'country hotel',\n",
       " 'deck chairs',\n",
       " 'design hotel',\n",
       " 'desk',\n",
       " 'direct beach access',\n",
       " 'diving',\n",
       " 'doctor on-site',\n",
       " 'eco-friendly hotel',\n",
       " 'electric kettle',\n",
       " 'excellent rating',\n",
       " 'express check-in / check-out',\n",
       " 'family friendly',\n",
       " 'fan',\n",
       " 'farmstay',\n",
       " 'fitness',\n",
       " 'flatscreen tv',\n",
       " 'free wifi (combined)',\n",
       " 'free wifi (public areas)',\n",
       " 'free wifi (rooms)',\n",
       " 'fridge',\n",
       " 'from 2 stars',\n",
       " 'from 3 stars',\n",
       " 'from 4 stars',\n",
       " 'gay-friendly',\n",
       " 'golf course',\n",
       " 'good rating',\n",
       " 'guest house',\n",
       " 'gym',\n",
       " 'hairdresser',\n",
       " 'hairdryer',\n",
       " 'hammam',\n",
       " 'health retreat',\n",
       " 'hiking trail',\n",
       " 'honeymoon',\n",
       " 'horse riding',\n",
       " 'hostel',\n",
       " 'hot stone massage',\n",
       " 'hotel',\n",
       " 'hotel bar',\n",
       " 'house / apartment',\n",
       " 'hydrotherapy',\n",
       " 'hypoallergenic bedding',\n",
       " 'hypoallergenic rooms',\n",
       " 'ironing board',\n",
       " 'jacuzzi (hotel)',\n",
       " \"kids' club\",\n",
       " 'kosher food',\n",
       " 'large groups',\n",
       " 'laundry service',\n",
       " 'lift',\n",
       " 'luxury hotel',\n",
       " 'massage',\n",
       " 'microwave',\n",
       " 'minigolf',\n",
       " 'motel',\n",
       " 'nightclub',\n",
       " 'non-smoking rooms',\n",
       " 'on-site boutique shopping',\n",
       " 'openable windows',\n",
       " 'organised activities',\n",
       " 'pet friendly',\n",
       " 'playground',\n",
       " 'pool table',\n",
       " 'porter',\n",
       " 'pousada (br)',\n",
       " 'radio',\n",
       " 'reception (24/7)',\n",
       " 'resort',\n",
       " 'restaurant',\n",
       " 'romantic',\n",
       " 'room service',\n",
       " 'room service (24/7)',\n",
       " 'safe (hotel)',\n",
       " 'safe (rooms)',\n",
       " 'sailing',\n",
       " 'satellite tv',\n",
       " 'satisfactory rating',\n",
       " 'sauna',\n",
       " 'self catering',\n",
       " 'senior travellers',\n",
       " 'serviced apartment',\n",
       " 'shower',\n",
       " 'singles',\n",
       " 'sitting area (rooms)',\n",
       " 'ski resort',\n",
       " 'solarium',\n",
       " 'spa (wellness facility)',\n",
       " 'spa hotel',\n",
       " 'steam room',\n",
       " 'sun umbrellas',\n",
       " 'surfing',\n",
       " 'swimming pool (bar)',\n",
       " 'swimming pool (combined filter)',\n",
       " 'swimming pool (indoor)',\n",
       " 'swimming pool (outdoor)',\n",
       " 'table tennis',\n",
       " 'telephone',\n",
       " 'teleprinter',\n",
       " 'television',\n",
       " 'tennis court',\n",
       " 'tennis court (indoor)',\n",
       " 'terrace (hotel)',\n",
       " 'theme hotel',\n",
       " 'towels',\n",
       " 'very good rating',\n",
       " 'volleyball',\n",
       " 'washing machine',\n",
       " 'wheelchair accessible',\n",
       " 'wifi (public areas)',\n",
       " 'wifi (rooms)',\n",
       " 'list_metadata']"
      ]
     },
     "execution_count": 8,
     "metadata": {},
     "output_type": "execute_result"
    }
   ],
   "source": [
    "df_metadata.columns.tolist()"
   ]
  },
  {
   "cell_type": "code",
   "execution_count": 123,
   "metadata": {
    "colab": {
     "base_uri": "https://localhost:8080/"
    },
    "id": "GvEOXNt335LJ",
    "outputId": "02e210c6-3dae-4ae9-8a5a-2a178d5cd3a3",
    "pycharm": {
     "name": "#%%\n"
    }
   },
   "outputs": [
    {
     "name": "stdout",
     "output_type": "stream",
     "text": [
      "mkdir: cannot create directory ‘test’: File exists\n",
      "mkdir: cannot create directory ‘out’: File exists\n"
     ]
    }
   ],
   "source": [
    "!mkdir test\n",
    "!mkdir out"
   ]
  },
  {
   "cell_type": "code",
   "execution_count": 9,
   "metadata": {
    "pycharm": {
     "name": "#%%\n"
    }
   },
   "outputs": [],
   "source": [
    "import torch"
   ]
  },
  {
   "cell_type": "code",
   "execution_count": 10,
   "metadata": {
    "pycharm": {
     "name": "#%%\n"
    }
   },
   "outputs": [
    {
     "name": "stdout",
     "output_type": "stream",
     "text": [
      "cuda:0\n"
     ]
    }
   ],
   "source": [
    "device = torch.device(\"cuda:0\" if torch.cuda.is_available() else \"cpu\")\n",
    "print(device)"
   ]
  },
  {
   "cell_type": "code",
   "execution_count": 11,
   "metadata": {
    "id": "tDyzIlmS20dz",
    "pycharm": {
     "name": "#%%\n"
    }
   },
   "outputs": [],
   "source": [
    "import luigi\n",
    "# import pandas as pd\n",
    "# import os\n",
    "# DATASET_DIR = 'test/'\n",
    "# OUTPUT_PATH = 'out/'"
   ]
  },
  {
   "cell_type": "code",
   "execution_count": 12,
   "metadata": {
    "id": "KtL7nPg_2V-d",
    "pycharm": {
     "name": "#%%\n"
    }
   },
   "outputs": [],
   "source": [
    "import pandas as pd\n",
    "from samples.trivago_simple.data import DATASET_DIR, OUTPUT_PATH\n",
    "import os\n",
    "from mars_gym.data.utils import DownloadDataset\n",
    "\n",
    "class PrepareInteractionData(luigi.Task):\n",
    "    def requires(self):\n",
    "        return DownloadDataset(dataset=\"processed_trivago_rio\", output_path=OUTPUT_PATH)\n",
    "\n",
    "    def output(self):\n",
    "        return luigi.LocalTarget(os.path.join(DATASET_DIR, \"dataset.csv\",))\n",
    "\n",
    "    def run(self):\n",
    "        os.makedirs(DATASET_DIR, exist_ok=True)\n",
    "\n",
    "        df = pd.read_csv(self.input()[0].path)\n",
    "\n",
    "        # .... transform dataset\n",
    "\n",
    "        df.to_csv(self.output().path)\n",
    "\n",
    "\n",
    "class PrepareMetaData(luigi.Task):\n",
    "    def requires(self):\n",
    "        return DownloadDataset(dataset=\"processed_trivago_rio\", output_path=OUTPUT_PATH)\n",
    "\n",
    "    def output(self):\n",
    "        return luigi.LocalTarget(os.path.join(DATASET_DIR, \"metadata.csv\",))\n",
    "\n",
    "    def run(self):\n",
    "        os.makedirs(DATASET_DIR, exist_ok=True)\n",
    "\n",
    "        df = pd.read_csv(self.input()[1].path)\n",
    "\n",
    "        # .... transform dataset\n",
    "\n",
    "        df.to_csv(self.output().path, index=\"item_id\")"
   ]
  },
  {
   "cell_type": "code",
   "execution_count": 13,
   "metadata": {
    "id": "kkxxZT4c2kjB",
    "pycharm": {
     "name": "#%%\n"
    }
   },
   "outputs": [],
   "source": [
    "from mars_gym.data.task import BasePrepareDataFrames\n",
    "\n",
    "class PrepareTrivagoDataFrame(BasePrepareDataFrames):\n",
    "    def requires(self):\n",
    "        return (\n",
    "            PrepareInteractionData(),\n",
    "            PrepareMetaData(),\n",
    "        )\n",
    "\n",
    "    @property\n",
    "    def timestamp_property(self) -> str:\n",
    "        return \"timestamp\"\n",
    "\n",
    "    @property\n",
    "    def dataset_dir(self) -> str:\n",
    "        return DATASET_DIR\n",
    "\n",
    "    @property\n",
    "    def read_data_frame_path(self) -> pd.DataFrame:\n",
    "        return self.input()[0].path\n",
    "\n",
    "    @property\n",
    "    def metadata_data_frame_path(self):\n",
    "        return self.input()[1].path"
   ]
  },
  {
   "cell_type": "code",
   "execution_count": 1,
   "metadata": {
    "colab": {
     "base_uri": "https://localhost:8080/"
    },
    "id": "lEddl_5I27q0",
    "outputId": "f0485198-e974-4809-9c82-c2d0224bdcfe",
    "pycharm": {
     "name": "#%%\n"
    }
   },
   "outputs": [
    {
     "name": "stderr",
     "output_type": "stream",
     "text": [
      "C:\\Users\\Rodrigues Neto\\anaconda3\\envs\\mars-gym\\lib\\site-packages\\luigi\\parameter.py:283: UserWarning: Parameter \"column_stratification\" with value \"None\" is not of type string.\n",
      "  warnings.warn('Parameter \"{}\" with value \"{}\" is not of type string.'.format(param_name, param_value))\n",
      "DEBUG: Checking if PrepareTrivagoDataFrame(session_test_size=0.1, test_size=0.2, sample_size=-1, minimum_interactions=5, dataset_split_method=time, column_stratification=None, test_split_type=random, item_column=item_id, available_arms_column_name=available_arms, n_splits=10, split_index=0, val_size=0.2, sampling_strategy=none, balance_fields=[], sampling_proportions={}, use_sampling_in_validation=False, eq_filters={}, neq_filters={}, isin_filters={}, seed=42) is complete\n",
      "INFO: Informed scheduler that task   PrepareTrivagoDataFrame_available_arms____None_c76cd6b0de   has status   DONE\n",
      "INFO: Done scheduling tasks\n",
      "INFO: Running Worker with 1 processes\n",
      "DEBUG: Asking scheduler for work...\n",
      "DEBUG: Done\n",
      "DEBUG: There are no more tasks to run at this time\n",
      "INFO: Worker Worker(salt=704523779, workers=1, host=Rodrigues, username=Rodrigues Neto, pid=6852) was stopped. Shutting down Keep-Alive thread\n",
      "INFO: \n",
      "===== Luigi Execution Summary =====\n",
      "\n",
      "Scheduled 1 tasks of which:\n",
      "* 1 complete ones were encountered:\n",
      "    - 1 PrepareTrivagoDataFrame(...)\n",
      "\n",
      "Did not run any tasks\n",
      "This progress looks :) because there were no failed tasks or missing dependencies\n",
      "\n",
      "===== Luigi Execution Summary =====\n",
      "\n"
     ]
    },
    {
     "data": {
      "text/plain": [
       "True"
      ]
     },
     "execution_count": 1,
     "metadata": {},
     "output_type": "execute_result"
    }
   ],
   "source": [
    "from samples.trivago_simple.data import PrepareTrivagoDataFrame\n",
    "import luigi\n",
    "job = PrepareTrivagoDataFrame(item_column='item_id')\n",
    "luigi.build([job], local_scheduler=True)"
   ]
  },
  {
   "cell_type": "code",
   "execution_count": 15,
   "metadata": {
    "colab": {
     "base_uri": "https://localhost:8080/"
    },
    "id": "KlQh5wzN4vqh",
    "outputId": "259e4d1d-f243-4da5-b832-cd6b4818389c",
    "pycharm": {
     "name": "#%%\n"
    }
   },
   "outputs": [
    {
     "data": {
      "text/plain": [
       "['output\\\\processed_trivago_rio\\\\dataset\\\\train_0.20_test=random_42_none_PrepareTrivagoDataFrame_available_arms____None_c76cd6b0de.csv',\n",
       " 'output\\\\processed_trivago_rio\\\\dataset\\\\val_0.20_test=random_42_PrepareTrivagoDataFrame_available_arms____None_c76cd6b0de.csv',\n",
       " 'output\\\\processed_trivago_rio\\\\dataset\\\\test_0.20_test=random_42_PrepareTrivagoDataFrame_available_arms____None_c76cd6b0de.csv',\n",
       " 'output\\\\processed_trivago_rio\\\\dataset\\\\metadata.csv']"
      ]
     },
     "execution_count": 15,
     "metadata": {},
     "output_type": "execute_result"
    }
   ],
   "source": [
    "[o.path for o in job.output()]"
   ]
  },
  {
   "cell_type": "code",
   "execution_count": 2,
   "metadata": {
    "id": "48pVzI_K5YCG",
    "pycharm": {
     "name": "#%%\n"
    }
   },
   "outputs": [],
   "source": [
    "from mars_gym.data.dataset import InteractionsDataset\n",
    "from mars_gym.meta_config import *\n",
    "from samples.trivago_rio import data\n",
    "\n",
    "trivago_rio = ProjectConfig(\n",
    "    base_dir=data.BASE_DIR,\n",
    "    prepare_data_frames_task=data.PrepareTrivagoDataFrame,\n",
    "    dataset_class=InteractionsDataset,\n",
    "    user_column=Column(\"user_id\", IOType.INDEXABLE),\n",
    "    item_column=Column(\"item_id\", IOType.INDEXABLE),\n",
    "    other_input_columns=[\n",
    "        Column(\"pos_item_id\", IOType.NUMBER),\n",
    "        Column(\"list_reference_item\", IOType.INDEXABLE_ARRAY, same_index_as=\"item_id\"),\n",
    "    ],\n",
    "    metadata_columns=[Column(\"list_metadata\", IOType.INT_ARRAY),],\n",
    "    output_column=Column(\"clicked\", IOType.NUMBER),\n",
    "    available_arms_column_name=\"impressions\"\n",
    ")"
   ]
  },
  {
   "cell_type": "code",
   "execution_count": 3,
   "metadata": {
    "id": "Xl8-IRGF5lmC",
    "pycharm": {
     "name": "#%%\n"
    }
   },
   "outputs": [],
   "source": [
    "import luigi\n",
    "from typing import Dict, Any\n",
    "import torch\n",
    "import torch.nn as nn\n",
    "from mars_gym.meta_config import ProjectConfig\n",
    "from mars_gym.model.abstract import RecommenderModule\n",
    "\n",
    "\n",
    "class SimpleLinearModel(RecommenderModule):\n",
    "    def __init__(\n",
    "        self,\n",
    "        project_config: ProjectConfig,\n",
    "        index_mapping: Dict[str, Dict[Any, int]],\n",
    "    ):\n",
    "      \"\"\"\n",
    "      build model architecture\n",
    "      \"\"\"\n",
    "      super().__init__(project_config, index_mapping)\n",
    "      #...\n",
    "\n",
    "    def forward(\n",
    "        self,\n",
    "        user_ids: torch.Tensor,\n",
    "        item_ids: torch.Tensor,\n",
    "        pos_item_id: torch.Tensor,\n",
    "        list_reference_item: torch.Tensor,\n",
    "        list_metadata: torch.Tensor,\n",
    "    ):\n",
    "      \"\"\"\n",
    "      build forward\n",
    "      \"\"\"\n",
    "      pass"
   ]
  },
  {
   "cell_type": "code",
   "execution_count": 4,
   "metadata": {
    "id": "Rt4gpsxg5ySR",
    "pycharm": {
     "name": "#%%\n"
    }
   },
   "outputs": [],
   "source": [
    "class SimpleLinearModel(RecommenderModule):\n",
    "    def __init__(\n",
    "        self,\n",
    "        project_config: ProjectConfig,\n",
    "        index_mapping: Dict[str, Dict[Any, int]],\n",
    "        n_factors: int,\n",
    "        metadata_size: int,\n",
    "        window_hist_size: int,\n",
    "    ):\n",
    "        super().__init__(project_config, index_mapping)\n",
    "\n",
    "        self.user_embeddings = nn.Embedding(self._n_users, n_factors)\n",
    "        self.item_embeddings = nn.Embedding(self._n_items, n_factors)\n",
    "\n",
    "        # user + item + flatten hist + position + metadata\n",
    "        num_dense = 2 * n_factors + window_hist_size * n_factors + 1 + metadata_size\n",
    "\n",
    "        self.dense = nn.Sequential(\n",
    "            nn.Linear(num_dense, 500), nn.SELU(), nn.Linear(500, 1),\n",
    "        )\n",
    "\n",
    "    def flatten(self, input: torch.Tensor):\n",
    "        return input.view(input.size(0), -1)\n",
    "\n",
    "    def forward(\n",
    "        self,\n",
    "        user_ids: torch.Tensor,\n",
    "        item_ids: torch.Tensor,\n",
    "        pos_item_id: torch.Tensor,\n",
    "        list_reference_item: torch.Tensor,\n",
    "        list_metadata: torch.Tensor,\n",
    "    ):\n",
    "        user_emb = self.user_embeddings(user_ids)\n",
    "        item_emb = self.item_embeddings(item_ids)\n",
    "        history_items_emb = self.item_embeddings(list_reference_item)\n",
    "\n",
    "        x = torch.cat(\n",
    "            (\n",
    "                user_emb,\n",
    "                item_emb,\n",
    "                self.flatten(history_items_emb),\n",
    "                pos_item_id.float().unsqueeze(1),\n",
    "                list_metadata.float(),\n",
    "            ),\n",
    "            dim=1,\n",
    "        )\n",
    "\n",
    "        x = self.dense(x)\n",
    "        return torch.sigmoid(x)"
   ]
  },
  {
   "cell_type": "code",
   "execution_count": 5,
   "metadata": {
    "id": "TKvmmu8k52oU",
    "pycharm": {
     "name": "#%%\n"
    }
   },
   "outputs": [],
   "source": [
    "from mars_gym.model.bandit import BanditPolicy\n",
    "from typing import Dict, Any, List, Tuple, Union\n",
    "\n",
    "class BasePolicy(BanditPolicy):\n",
    "    def __init__(self, reward_model: nn.Module, seed: int = 42):\n",
    "        \"\"\"\n",
    "        Initialize bandit information and params\n",
    "        \"\"\"\n",
    "        super().__init__(reward_model)\n",
    "\n",
    "    def _select_idx(\n",
    "        self,\n",
    "        arm_indices: List[int],\n",
    "        arm_contexts: Tuple[np.ndarray, ...] = None,\n",
    "        arm_scores: List[float] = None,\n",
    "        pos: int = 0,\n",
    "    ) -> Union[int, Tuple[int, float]]:\n",
    "        \"\"\"\n",
    "        Choose the index of arm selected in turn\n",
    "        \"\"\"\n",
    "\n",
    "        return action"
   ]
  },
  {
   "cell_type": "code",
   "execution_count": 6,
   "metadata": {
    "id": "RDevQvXG53aS",
    "pycharm": {
     "name": "#%%\n"
    }
   },
   "outputs": [],
   "source": [
    "from numpy.random import RandomState\n",
    "\n",
    "\n",
    "class EGreedyPolicy(BanditPolicy):\n",
    "    def __init__(self, reward_model: nn.Module, seed: int = 42):\n",
    "        super().__init__(reward_model)\n",
    "        self._rng = RandomState(seed)\n",
    "\n",
    "    def _select_idx(\n",
    "        self,\n",
    "        arm_indices: List[int],\n",
    "        arm_contexts: Tuple[np.ndarray, ...] = None,\n",
    "        arm_scores: List[float] = None,\n",
    "        pos: int = 0,\n",
    "    ) -> Union[int, Tuple[int, float]]:\n",
    "\n",
    "        n_arms = len(arm_indices)\n",
    "        arm_probas = np.ones(n_arms) / n_arms\n",
    "\n",
    "        if self._rng.choice([True, False], p=[self._epsilon, 1.0 - self._epsilon]):\n",
    "            action = self._rng.choice(len(arm_indices), p=arm_probas)\n",
    "        else:\n",
    "            action = int(np.argmax(arm_scores))\n",
    "\n",
    "        return action\n",
    "      "
   ]
  },
  {
   "cell_type": "code",
   "execution_count": null,
   "metadata": {
    "pycharm": {
     "name": "#%%\n"
    }
   },
   "outputs": [],
   "source": [
    "from mars_gym.simulation.interaction import InteractionTraining\n",
    "job_train = InteractionTraining(\n",
    "    project=\"samples.trivago_simple.config.trivago_rio\",\n",
    "    recommender_module_class=\"samples.trivago_simple.simulation.SimpleLinearModel\",\n",
    "    recommender_extra_params={\n",
    "        \"n_factors\": 10,\n",
    "        \"metadata_size\": 148,\n",
    "        \"window_hist_size\": 5,\n",
    "    },\n",
    "    bandit_policy_class=\"samples.trivago_simple.simulation.EGreedyPolicy\",\n",
    "    bandit_policy_params={\n",
    "        \"epsilon\": 0.1,\n",
    "        \"seed\": 42\n",
    "    },\n",
    "    test_size=0.99,\n",
    "    obs_batch_size=25,\n",
    "    num_episodes=1,\n",
    ")\n",
    "# luigi.build([job_train], local_scheduler=True)"
   ]
  },
  {
   "cell_type": "code",
   "execution_count": null,
   "metadata": {
    "pycharm": {
     "name": "#%%\n"
    }
   },
   "outputs": [],
   "source": [
    "job_train.run()"
   ]
  },
  {
   "cell_type": "code",
   "execution_count": null,
   "metadata": {
    "pycharm": {
     "name": "#%%\n"
    }
   },
   "outputs": [],
   "source": [
    "job_train.run()"
   ]
  },
  {
   "cell_type": "code",
   "execution_count": null,
   "metadata": {
    "pycharm": {
     "name": "#%%\n"
    }
   },
   "outputs": [],
   "source": [
    "job_train.env.action_space.sample()"
   ]
  },
  {
   "cell_type": "code",
   "execution_count": null,
   "metadata": {
    "colab": {
     "base_uri": "https://localhost:8080/"
    },
    "id": "bdAv_KZK9txc",
    "outputId": "d35af4b7-5a10-4389-c804-42c1aa24fac5",
    "pycharm": {
     "name": "#%%\n"
    }
   },
   "outputs": [],
   "source": [
    "job_train.env.action_space.sample()"
   ]
  },
  {
   "cell_type": "code",
   "execution_count": 137,
   "metadata": {
    "id": "25xB7Dhi-Y-s",
    "pycharm": {
     "name": "#%%\n"
    }
   },
   "outputs": [],
   "source": [
    "job_train.env.reset()\n",
    "next_state,reward,done,info = job_train.env.step(job_train.env.action_space.sample())"
   ]
  },
  {
   "cell_type": "code",
   "execution_count": 138,
   "metadata": {
    "colab": {
     "base_uri": "https://localhost:8080/"
    },
    "id": "LbsChNqP-4wc",
    "outputId": "5387c2bc-ccd1-4ca1-c66f-1a1c08f6be86",
    "pycharm": {
     "name": "#%%\n"
    }
   },
   "outputs": [
    {
     "data": {
      "text/plain": [
       "{'user_id': 1768,\n",
       " 'pos_item_id': 1,\n",
       " 'list_reference_item': [0, 0, 0, 0, 0],\n",
       " 'impressions': array([0, 0, 0, 0, 0, 0, 0, 0, 0, 0, 0, 0, 0, 0, 0, 0, 0, 0, 0, 0, 1, 0,\n",
       "        0, 0, 0, 0, 0, 0, 0, 0, 0, 0, 0, 0, 0, 0, 0, 0, 0, 0, 0, 0, 0, 0,\n",
       "        0, 0, 0, 0, 0, 0, 0, 0, 0, 0, 0, 0, 0, 0, 0, 0, 0, 0, 0, 0, 0, 0,\n",
       "        0, 0, 0, 0, 0, 0, 0, 0, 0, 0, 0, 0, 0, 0, 0, 0, 0, 0, 0, 0, 0, 0,\n",
       "        0, 0, 0, 0, 0, 0, 1, 0, 0, 0, 0, 0, 0, 0, 1, 0, 0, 0, 0, 0, 0, 0,\n",
       "        1, 0, 0, 0, 0, 0, 0, 0, 0, 1, 0, 0, 1, 0, 0, 0, 0, 0, 0, 0, 0, 0,\n",
       "        0, 0, 0, 0, 0, 0, 0, 0, 0, 0, 0, 0, 0, 0, 0, 0, 0, 0, 0, 0, 0, 0,\n",
       "        0, 0, 0, 0, 0, 0, 0, 0, 0, 0, 0, 0, 0, 0, 0, 0, 0, 0, 0, 0, 0, 0,\n",
       "        0, 0, 0, 0, 0, 0, 0, 0, 0, 0, 0, 0, 0, 0, 0, 0, 0, 0, 0, 0, 0, 0,\n",
       "        0, 0, 0, 0, 0, 0, 0, 0, 0, 0, 0, 0, 0, 0, 0, 0, 0, 0, 0, 0, 0, 0,\n",
       "        0, 0, 0, 0, 0, 0, 0, 0, 0, 0, 0, 0, 0, 0, 0, 0, 0, 0, 0, 0, 0, 0,\n",
       "        0, 0, 0, 0, 0, 0, 0, 0, 0, 0, 0, 0, 0, 1, 0, 0, 0, 0, 0, 0, 0, 0,\n",
       "        0, 0, 0, 0, 0, 0, 0, 0, 0, 0, 0, 0, 0, 0, 1, 0, 0, 0, 0, 0, 1, 0,\n",
       "        1, 0, 0, 0, 0, 0, 0, 0, 1, 0, 0, 0, 0, 0, 0, 0, 0, 1, 0, 0, 0, 0,\n",
       "        0, 0, 0, 0, 0, 0, 0, 0, 0, 0, 0, 0, 0, 1, 0, 0, 0, 0, 0, 0, 0, 0,\n",
       "        0, 0, 0, 0, 0, 0, 0, 0, 0, 0, 0, 0, 0, 0, 0, 0, 0, 0, 0, 0, 0, 0,\n",
       "        0, 0, 0, 0, 0, 0, 0, 0, 0, 0, 0, 0, 0, 0, 0, 0, 0, 0, 0, 0, 0, 0,\n",
       "        0, 0, 0, 0, 0, 0, 0, 0, 0, 0, 0, 0, 0, 0, 0, 0, 0, 0, 0, 0, 0, 0,\n",
       "        0, 0, 0, 0, 0, 0, 0, 0, 0, 0, 0, 0, 0, 0, 0, 0, 0, 0, 0, 0, 0, 0,\n",
       "        0, 0, 0, 0, 0, 0, 0, 0, 0, 0, 0, 0, 0, 1, 0, 0, 1, 0, 0, 0, 0, 0,\n",
       "        0, 0, 0, 0, 0, 0, 0, 0, 0, 0, 0, 0, 0, 0, 0, 0, 0, 0, 0, 0, 0, 0,\n",
       "        0, 0, 1, 0, 0, 1, 0, 0, 0, 0, 0, 1, 0, 0, 0, 0, 0, 0, 0, 0, 0, 1,\n",
       "        0, 0, 0, 0, 0, 0, 0, 0, 0, 0, 0, 0, 0, 0, 0, 0, 0, 0, 0, 0, 0, 0,\n",
       "        0, 0, 0, 0, 0, 0, 0, 1, 0, 0, 0, 0, 0, 0, 0, 0, 0, 0, 0, 0, 0, 0,\n",
       "        0, 0, 0, 0, 0, 0, 0, 0, 0, 0, 0, 0, 0, 0, 0, 0, 0, 0, 1, 0, 0, 0,\n",
       "        0, 0, 0, 0, 0, 0, 0, 0, 0, 0, 0, 0, 0, 0, 0, 0, 0, 0, 0, 0, 0, 1,\n",
       "        0, 0, 0, 0, 0, 0, 0, 0, 0, 0, 0, 0, 0, 0, 0, 0, 1, 0, 0, 0, 0, 0,\n",
       "        0, 0, 0, 0, 0, 0, 0, 0, 0, 0, 0, 0, 0, 0, 0, 0, 0, 0, 0, 0, 1, 0,\n",
       "        0, 0, 0, 0, 0, 0, 0, 0, 0, 0, 0, 0, 0, 0, 0, 0, 0, 0, 0, 0, 0, 0,\n",
       "        0, 0, 0, 0, 0, 0, 0, 0, 0, 0, 0, 0, 0, 0, 0, 0, 0, 0, 0, 0, 0, 0,\n",
       "        0, 0, 0, 0, 0, 0, 0, 0, 0, 0, 0, 0, 0, 0, 0, 0, 0, 0, 0, 0, 0, 0,\n",
       "        0, 0, 0, 0, 0, 0, 0, 0, 0, 0, 0, 0, 0, 0, 0, 0, 0, 0, 0, 0, 0, 0,\n",
       "        0, 0, 0, 0, 0, 0, 0, 0, 0, 0, 0, 0, 0, 0, 1, 0, 0, 0, 0, 0, 0, 0,\n",
       "        0, 0, 0, 0, 0, 0, 0, 0, 0, 0, 0, 0, 0, 0, 0, 0, 0, 0, 0, 0, 0, 0,\n",
       "        0, 0, 0, 0, 0, 0, 0, 0, 0, 0, 0, 0, 0, 0, 0, 0, 0, 0, 0, 0, 0, 0,\n",
       "        0, 0, 0, 0, 0, 0, 0, 0], dtype=int8),\n",
       " 'item_metadata': {'list_metadata': array([[0., 0., 0., ..., 0., 0., 0.],\n",
       "         [0., 0., 0., ..., 0., 0., 0.],\n",
       "         [0., 0., 0., ..., 0., 0., 0.],\n",
       "         ...,\n",
       "         [0., 0., 1., ..., 0., 1., 1.],\n",
       "         [0., 0., 0., ..., 0., 0., 0.],\n",
       "         [0., 0., 1., ..., 0., 0., 0.]])}}"
      ]
     },
     "execution_count": 138,
     "metadata": {},
     "output_type": "execute_result"
    }
   ],
   "source": [
    "next_state"
   ]
  },
  {
   "cell_type": "code",
   "execution_count": 139,
   "metadata": {
    "colab": {
     "base_uri": "https://localhost:8080/"
    },
    "id": "1EmfLGzJ-9iI",
    "outputId": "0702c920-99a4-408a-d8d9-54f5736b6b91",
    "pycharm": {
     "name": "#%%\n"
    }
   },
   "outputs": [
    {
     "data": {
      "text/plain": [
       "0.0"
      ]
     },
     "execution_count": 139,
     "metadata": {},
     "output_type": "execute_result"
    }
   ],
   "source": [
    "reward"
   ]
  },
  {
   "cell_type": "code",
   "execution_count": 140,
   "metadata": {
    "colab": {
     "base_uri": "https://localhost:8080/",
     "height": 728
    },
    "id": "lDrJbeeMAYhf",
    "outputId": "ab449da2-c19c-439f-a94a-0fdc6c993356",
    "pycharm": {
     "name": "#%%\n"
    }
   },
   "outputs": [
    {
     "data": {
      "text/html": [
       "\n",
       "  <div id=\"df-59e38f4a-b6cf-4cdf-b7d1-d46439912328\">\n",
       "    <div class=\"colab-df-container\">\n",
       "      <div>\n",
       "<style scoped>\n",
       "    .dataframe tbody tr th:only-of-type {\n",
       "        vertical-align: middle;\n",
       "    }\n",
       "\n",
       "    .dataframe tbody tr th {\n",
       "        vertical-align: top;\n",
       "    }\n",
       "\n",
       "    .dataframe thead th {\n",
       "        text-align: right;\n",
       "    }\n",
       "</style>\n",
       "<table border=\"1\" class=\"dataframe\">\n",
       "  <thead>\n",
       "    <tr style=\"text-align: right;\">\n",
       "      <th></th>\n",
       "      <th>session_id</th>\n",
       "      <th>user_id</th>\n",
       "      <th>timestamp</th>\n",
       "      <th>action_type</th>\n",
       "      <th>item_id</th>\n",
       "      <th>impressions</th>\n",
       "      <th>list_reference_item</th>\n",
       "      <th>pos_item_id</th>\n",
       "      <th>clicked</th>\n",
       "    </tr>\n",
       "  </thead>\n",
       "  <tbody>\n",
       "    <tr>\n",
       "      <th>0</th>\n",
       "      <td>05fe82b496fb9</td>\n",
       "      <td>M1Z13DD0P2KH</td>\n",
       "      <td>1541422443</td>\n",
       "      <td>clickout item</td>\n",
       "      <td>4304686</td>\n",
       "      <td>['109351', '150138', '4345728', '105014', '478...</td>\n",
       "      <td>['', '', '', '', '']</td>\n",
       "      <td>7</td>\n",
       "      <td>1.0</td>\n",
       "    </tr>\n",
       "    <tr>\n",
       "      <th>1</th>\n",
       "      <td>05fe82b496fb9</td>\n",
       "      <td>M1Z13DD0P2KH</td>\n",
       "      <td>1541422474</td>\n",
       "      <td>clickout item</td>\n",
       "      <td>960255</td>\n",
       "      <td>['1475717', '5196406', '104880', '109351', '68...</td>\n",
       "      <td>['4304686', '', '', '', '']</td>\n",
       "      <td>20</td>\n",
       "      <td>1.0</td>\n",
       "    </tr>\n",
       "    <tr>\n",
       "      <th>2</th>\n",
       "      <td>05fe82b496fb9</td>\n",
       "      <td>M1Z13DD0P2KH</td>\n",
       "      <td>1541423039</td>\n",
       "      <td>clickout item</td>\n",
       "      <td>2188598</td>\n",
       "      <td>['104558', '326781', '104786', '1223390', '206...</td>\n",
       "      <td>['4304686', '960255', '', '', '']</td>\n",
       "      <td>9</td>\n",
       "      <td>1.0</td>\n",
       "    </tr>\n",
       "    <tr>\n",
       "      <th>3</th>\n",
       "      <td>05fe82b496fb9</td>\n",
       "      <td>M1Z13DD0P2KH</td>\n",
       "      <td>1541424631</td>\n",
       "      <td>clickout item</td>\n",
       "      <td>8459162</td>\n",
       "      <td>['105014', '5659850', '478121', '109351', '956...</td>\n",
       "      <td>['4304686', '960255', '2188598', '', '']</td>\n",
       "      <td>23</td>\n",
       "      <td>1.0</td>\n",
       "    </tr>\n",
       "    <tr>\n",
       "      <th>4</th>\n",
       "      <td>05fe82b496fb9</td>\n",
       "      <td>M1Z13DD0P2KH</td>\n",
       "      <td>1541424685</td>\n",
       "      <td>interaction item info</td>\n",
       "      <td>8459162</td>\n",
       "      <td>NaN</td>\n",
       "      <td>['4304686', '960255', '2188598', '8459162', '']</td>\n",
       "      <td>-1</td>\n",
       "      <td>0.0</td>\n",
       "    </tr>\n",
       "    <tr>\n",
       "      <th>...</th>\n",
       "      <td>...</td>\n",
       "      <td>...</td>\n",
       "      <td>...</td>\n",
       "      <td>...</td>\n",
       "      <td>...</td>\n",
       "      <td>...</td>\n",
       "      <td>...</td>\n",
       "      <td>...</td>\n",
       "      <td>...</td>\n",
       "    </tr>\n",
       "    <tr>\n",
       "      <th>12104</th>\n",
       "      <td>fd29c8ef7413b</td>\n",
       "      <td>SC2JJQ2JA608</td>\n",
       "      <td>1541106223</td>\n",
       "      <td>clickout item</td>\n",
       "      <td>5708658</td>\n",
       "      <td>['4415314', '4342016', '150138', '4345728', '5...</td>\n",
       "      <td>['4415314', '4415314', '4415314', '5708658', '...</td>\n",
       "      <td>6</td>\n",
       "      <td>1.0</td>\n",
       "    </tr>\n",
       "    <tr>\n",
       "      <th>12105</th>\n",
       "      <td>fd318152e4023</td>\n",
       "      <td>S9XY1GVBWNHM</td>\n",
       "      <td>1541110970</td>\n",
       "      <td>clickout item</td>\n",
       "      <td>2924213</td>\n",
       "      <td>['3148916', '5790750', '104706', '97505', '292...</td>\n",
       "      <td>['', '', '', '', '']</td>\n",
       "      <td>4</td>\n",
       "      <td>1.0</td>\n",
       "    </tr>\n",
       "    <tr>\n",
       "      <th>12106</th>\n",
       "      <td>fd318152e4023</td>\n",
       "      <td>S9XY1GVBWNHM</td>\n",
       "      <td>1541111026</td>\n",
       "      <td>interaction item info</td>\n",
       "      <td>2924213</td>\n",
       "      <td>NaN</td>\n",
       "      <td>['2924213', '', '', '', '']</td>\n",
       "      <td>-1</td>\n",
       "      <td>0.0</td>\n",
       "    </tr>\n",
       "    <tr>\n",
       "      <th>12107</th>\n",
       "      <td>fd318152e4023</td>\n",
       "      <td>S9XY1GVBWNHM</td>\n",
       "      <td>1541111089</td>\n",
       "      <td>clickout item</td>\n",
       "      <td>926343</td>\n",
       "      <td>['104811', '926343', '104706', '8256462', '132...</td>\n",
       "      <td>['2924213', '2924213', '', '', '']</td>\n",
       "      <td>1</td>\n",
       "      <td>1.0</td>\n",
       "    </tr>\n",
       "    <tr>\n",
       "      <th>12108</th>\n",
       "      <td>fd318152e4023</td>\n",
       "      <td>S9XY1GVBWNHM</td>\n",
       "      <td>1541111182</td>\n",
       "      <td>clickout item</td>\n",
       "      <td>104706</td>\n",
       "      <td>['5659850', '104706', '104880', '95685', '2924...</td>\n",
       "      <td>['2924213', '2924213', '926343', '', '']</td>\n",
       "      <td>1</td>\n",
       "      <td>1.0</td>\n",
       "    </tr>\n",
       "  </tbody>\n",
       "</table>\n",
       "<p>12109 rows × 9 columns</p>\n",
       "</div>\n",
       "      <button class=\"colab-df-convert\" onclick=\"convertToInteractive('df-59e38f4a-b6cf-4cdf-b7d1-d46439912328')\"\n",
       "              title=\"Convert this dataframe to an interactive table.\"\n",
       "              style=\"display:none;\">\n",
       "        \n",
       "  <svg xmlns=\"http://www.w3.org/2000/svg\" height=\"24px\"viewBox=\"0 0 24 24\"\n",
       "       width=\"24px\">\n",
       "    <path d=\"M0 0h24v24H0V0z\" fill=\"none\"/>\n",
       "    <path d=\"M18.56 5.44l.94 2.06.94-2.06 2.06-.94-2.06-.94-.94-2.06-.94 2.06-2.06.94zm-11 1L8.5 8.5l.94-2.06 2.06-.94-2.06-.94L8.5 2.5l-.94 2.06-2.06.94zm10 10l.94 2.06.94-2.06 2.06-.94-2.06-.94-.94-2.06-.94 2.06-2.06.94z\"/><path d=\"M17.41 7.96l-1.37-1.37c-.4-.4-.92-.59-1.43-.59-.52 0-1.04.2-1.43.59L10.3 9.45l-7.72 7.72c-.78.78-.78 2.05 0 2.83L4 21.41c.39.39.9.59 1.41.59.51 0 1.02-.2 1.41-.59l7.78-7.78 2.81-2.81c.8-.78.8-2.07 0-2.86zM5.41 20L4 18.59l7.72-7.72 1.47 1.35L5.41 20z\"/>\n",
       "  </svg>\n",
       "      </button>\n",
       "      \n",
       "  <style>\n",
       "    .colab-df-container {\n",
       "      display:flex;\n",
       "      flex-wrap:wrap;\n",
       "      gap: 12px;\n",
       "    }\n",
       "\n",
       "    .colab-df-convert {\n",
       "      background-color: #E8F0FE;\n",
       "      border: none;\n",
       "      border-radius: 50%;\n",
       "      cursor: pointer;\n",
       "      display: none;\n",
       "      fill: #1967D2;\n",
       "      height: 32px;\n",
       "      padding: 0 0 0 0;\n",
       "      width: 32px;\n",
       "    }\n",
       "\n",
       "    .colab-df-convert:hover {\n",
       "      background-color: #E2EBFA;\n",
       "      box-shadow: 0px 1px 2px rgba(60, 64, 67, 0.3), 0px 1px 3px 1px rgba(60, 64, 67, 0.15);\n",
       "      fill: #174EA6;\n",
       "    }\n",
       "\n",
       "    [theme=dark] .colab-df-convert {\n",
       "      background-color: #3B4455;\n",
       "      fill: #D2E3FC;\n",
       "    }\n",
       "\n",
       "    [theme=dark] .colab-df-convert:hover {\n",
       "      background-color: #434B5C;\n",
       "      box-shadow: 0px 1px 3px 1px rgba(0, 0, 0, 0.15);\n",
       "      filter: drop-shadow(0px 1px 2px rgba(0, 0, 0, 0.3));\n",
       "      fill: #FFFFFF;\n",
       "    }\n",
       "  </style>\n",
       "\n",
       "      <script>\n",
       "        const buttonEl =\n",
       "          document.querySelector('#df-59e38f4a-b6cf-4cdf-b7d1-d46439912328 button.colab-df-convert');\n",
       "        buttonEl.style.display =\n",
       "          google.colab.kernel.accessAllowed ? 'block' : 'none';\n",
       "\n",
       "        async function convertToInteractive(key) {\n",
       "          const element = document.querySelector('#df-59e38f4a-b6cf-4cdf-b7d1-d46439912328');\n",
       "          const dataTable =\n",
       "            await google.colab.kernel.invokeFunction('convertToInteractive',\n",
       "                                                     [key], {});\n",
       "          if (!dataTable) return;\n",
       "\n",
       "          const docLinkHtml = 'Like what you see? Visit the ' +\n",
       "            '<a target=\"_blank\" href=https://colab.research.google.com/notebooks/data_table.ipynb>data table notebook</a>'\n",
       "            + ' to learn more about interactive tables.';\n",
       "          element.innerHTML = '';\n",
       "          dataTable['output_type'] = 'display_data';\n",
       "          await google.colab.output.renderOutput(dataTable, element);\n",
       "          const docLink = document.createElement('div');\n",
       "          docLink.innerHTML = docLinkHtml;\n",
       "          element.appendChild(docLink);\n",
       "        }\n",
       "      </script>\n",
       "    </div>\n",
       "  </div>\n",
       "  "
      ],
      "text/plain": [
       "          session_id       user_id   timestamp            action_type  \\\n",
       "0      05fe82b496fb9  M1Z13DD0P2KH  1541422443          clickout item   \n",
       "1      05fe82b496fb9  M1Z13DD0P2KH  1541422474          clickout item   \n",
       "2      05fe82b496fb9  M1Z13DD0P2KH  1541423039          clickout item   \n",
       "3      05fe82b496fb9  M1Z13DD0P2KH  1541424631          clickout item   \n",
       "4      05fe82b496fb9  M1Z13DD0P2KH  1541424685  interaction item info   \n",
       "...              ...           ...         ...                    ...   \n",
       "12104  fd29c8ef7413b  SC2JJQ2JA608  1541106223          clickout item   \n",
       "12105  fd318152e4023  S9XY1GVBWNHM  1541110970          clickout item   \n",
       "12106  fd318152e4023  S9XY1GVBWNHM  1541111026  interaction item info   \n",
       "12107  fd318152e4023  S9XY1GVBWNHM  1541111089          clickout item   \n",
       "12108  fd318152e4023  S9XY1GVBWNHM  1541111182          clickout item   \n",
       "\n",
       "       item_id                                        impressions  \\\n",
       "0      4304686  ['109351', '150138', '4345728', '105014', '478...   \n",
       "1       960255  ['1475717', '5196406', '104880', '109351', '68...   \n",
       "2      2188598  ['104558', '326781', '104786', '1223390', '206...   \n",
       "3      8459162  ['105014', '5659850', '478121', '109351', '956...   \n",
       "4      8459162                                                NaN   \n",
       "...        ...                                                ...   \n",
       "12104  5708658  ['4415314', '4342016', '150138', '4345728', '5...   \n",
       "12105  2924213  ['3148916', '5790750', '104706', '97505', '292...   \n",
       "12106  2924213                                                NaN   \n",
       "12107   926343  ['104811', '926343', '104706', '8256462', '132...   \n",
       "12108   104706  ['5659850', '104706', '104880', '95685', '2924...   \n",
       "\n",
       "                                     list_reference_item  pos_item_id  clicked  \n",
       "0                                   ['', '', '', '', '']            7      1.0  \n",
       "1                            ['4304686', '', '', '', '']           20      1.0  \n",
       "2                      ['4304686', '960255', '', '', '']            9      1.0  \n",
       "3               ['4304686', '960255', '2188598', '', '']           23      1.0  \n",
       "4        ['4304686', '960255', '2188598', '8459162', '']           -1      0.0  \n",
       "...                                                  ...          ...      ...  \n",
       "12104  ['4415314', '4415314', '4415314', '5708658', '...            6      1.0  \n",
       "12105                               ['', '', '', '', '']            4      1.0  \n",
       "12106                        ['2924213', '', '', '', '']           -1      0.0  \n",
       "12107                 ['2924213', '2924213', '', '', '']            1      1.0  \n",
       "12108           ['2924213', '2924213', '926343', '', '']            1      1.0  \n",
       "\n",
       "[12109 rows x 9 columns]"
      ]
     },
     "execution_count": 140,
     "metadata": {},
     "output_type": "execute_result"
    }
   ],
   "source": [
    "df"
   ]
  },
  {
   "cell_type": "code",
   "execution_count": 141,
   "metadata": {
    "colab": {
     "base_uri": "https://localhost:8080/",
     "height": 870
    },
    "id": "cBgwKzoNBcnC",
    "outputId": "9abd53ee-1d7e-4a8d-f6b0-b9907a623dd7",
    "pycharm": {
     "name": "#%%\n"
    }
   },
   "outputs": [
    {
     "data": {
      "text/html": [
       "\n",
       "  <div id=\"df-35edf22b-9b6c-41cc-b700-6c7e903be29c\">\n",
       "    <div class=\"colab-df-container\">\n",
       "      <div>\n",
       "<style scoped>\n",
       "    .dataframe tbody tr th:only-of-type {\n",
       "        vertical-align: middle;\n",
       "    }\n",
       "\n",
       "    .dataframe tbody tr th {\n",
       "        vertical-align: top;\n",
       "    }\n",
       "\n",
       "    .dataframe thead th {\n",
       "        text-align: right;\n",
       "    }\n",
       "</style>\n",
       "<table border=\"1\" class=\"dataframe\">\n",
       "  <thead>\n",
       "    <tr style=\"text-align: right;\">\n",
       "      <th></th>\n",
       "      <th>item_id</th>\n",
       "      <th>1 star</th>\n",
       "      <th>2 star</th>\n",
       "      <th>3 star</th>\n",
       "      <th>4 star</th>\n",
       "      <th>5 star</th>\n",
       "      <th>accessible hotel</th>\n",
       "      <th>accessible parking</th>\n",
       "      <th>adults only</th>\n",
       "      <th>air conditioning</th>\n",
       "      <th>...</th>\n",
       "      <th>terrace (hotel)</th>\n",
       "      <th>theme hotel</th>\n",
       "      <th>towels</th>\n",
       "      <th>very good rating</th>\n",
       "      <th>volleyball</th>\n",
       "      <th>washing machine</th>\n",
       "      <th>wheelchair accessible</th>\n",
       "      <th>wifi (public areas)</th>\n",
       "      <th>wifi (rooms)</th>\n",
       "      <th>list_metadata</th>\n",
       "    </tr>\n",
       "  </thead>\n",
       "  <tbody>\n",
       "    <tr>\n",
       "      <th>0</th>\n",
       "      <td>3217002</td>\n",
       "      <td>0</td>\n",
       "      <td>0</td>\n",
       "      <td>0</td>\n",
       "      <td>0</td>\n",
       "      <td>0</td>\n",
       "      <td>0</td>\n",
       "      <td>0</td>\n",
       "      <td>0</td>\n",
       "      <td>1</td>\n",
       "      <td>...</td>\n",
       "      <td>1</td>\n",
       "      <td>0</td>\n",
       "      <td>0</td>\n",
       "      <td>1</td>\n",
       "      <td>0</td>\n",
       "      <td>0</td>\n",
       "      <td>0</td>\n",
       "      <td>1</td>\n",
       "      <td>1</td>\n",
       "      <td>[0, 0, 0, 0, 0, 0, 0, 0, 1, 0, 0, 0, 0, 1, 0, ...</td>\n",
       "    </tr>\n",
       "    <tr>\n",
       "      <th>1</th>\n",
       "      <td>3486086</td>\n",
       "      <td>0</td>\n",
       "      <td>0</td>\n",
       "      <td>0</td>\n",
       "      <td>0</td>\n",
       "      <td>0</td>\n",
       "      <td>0</td>\n",
       "      <td>0</td>\n",
       "      <td>0</td>\n",
       "      <td>0</td>\n",
       "      <td>...</td>\n",
       "      <td>0</td>\n",
       "      <td>0</td>\n",
       "      <td>0</td>\n",
       "      <td>0</td>\n",
       "      <td>0</td>\n",
       "      <td>0</td>\n",
       "      <td>0</td>\n",
       "      <td>0</td>\n",
       "      <td>0</td>\n",
       "      <td>[0, 0, 0, 0, 0, 0, 0, 0, 0, 0, 0, 0, 0, 0, 0, ...</td>\n",
       "    </tr>\n",
       "    <tr>\n",
       "      <th>2</th>\n",
       "      <td>5497220</td>\n",
       "      <td>0</td>\n",
       "      <td>0</td>\n",
       "      <td>0</td>\n",
       "      <td>1</td>\n",
       "      <td>0</td>\n",
       "      <td>1</td>\n",
       "      <td>0</td>\n",
       "      <td>0</td>\n",
       "      <td>1</td>\n",
       "      <td>...</td>\n",
       "      <td>0</td>\n",
       "      <td>0</td>\n",
       "      <td>0</td>\n",
       "      <td>1</td>\n",
       "      <td>0</td>\n",
       "      <td>0</td>\n",
       "      <td>1</td>\n",
       "      <td>1</td>\n",
       "      <td>1</td>\n",
       "      <td>[0, 0, 0, 1, 0, 1, 0, 0, 1, 0, 0, 0, 1, 1, 0, ...</td>\n",
       "    </tr>\n",
       "    <tr>\n",
       "      <th>3</th>\n",
       "      <td>6551710</td>\n",
       "      <td>0</td>\n",
       "      <td>0</td>\n",
       "      <td>0</td>\n",
       "      <td>0</td>\n",
       "      <td>0</td>\n",
       "      <td>0</td>\n",
       "      <td>0</td>\n",
       "      <td>1</td>\n",
       "      <td>0</td>\n",
       "      <td>...</td>\n",
       "      <td>1</td>\n",
       "      <td>0</td>\n",
       "      <td>0</td>\n",
       "      <td>0</td>\n",
       "      <td>0</td>\n",
       "      <td>1</td>\n",
       "      <td>0</td>\n",
       "      <td>0</td>\n",
       "      <td>1</td>\n",
       "      <td>[0, 0, 0, 0, 0, 0, 0, 1, 0, 1, 0, 1, 0, 0, 0, ...</td>\n",
       "    </tr>\n",
       "    <tr>\n",
       "      <th>4</th>\n",
       "      <td>6680288</td>\n",
       "      <td>0</td>\n",
       "      <td>0</td>\n",
       "      <td>0</td>\n",
       "      <td>0</td>\n",
       "      <td>0</td>\n",
       "      <td>0</td>\n",
       "      <td>0</td>\n",
       "      <td>0</td>\n",
       "      <td>1</td>\n",
       "      <td>...</td>\n",
       "      <td>1</td>\n",
       "      <td>0</td>\n",
       "      <td>0</td>\n",
       "      <td>1</td>\n",
       "      <td>0</td>\n",
       "      <td>1</td>\n",
       "      <td>0</td>\n",
       "      <td>1</td>\n",
       "      <td>1</td>\n",
       "      <td>[0, 0, 0, 0, 0, 0, 0, 0, 1, 1, 0, 1, 0, 1, 0, ...</td>\n",
       "    </tr>\n",
       "    <tr>\n",
       "      <th>...</th>\n",
       "      <td>...</td>\n",
       "      <td>...</td>\n",
       "      <td>...</td>\n",
       "      <td>...</td>\n",
       "      <td>...</td>\n",
       "      <td>...</td>\n",
       "      <td>...</td>\n",
       "      <td>...</td>\n",
       "      <td>...</td>\n",
       "      <td>...</td>\n",
       "      <td>...</td>\n",
       "      <td>...</td>\n",
       "      <td>...</td>\n",
       "      <td>...</td>\n",
       "      <td>...</td>\n",
       "      <td>...</td>\n",
       "      <td>...</td>\n",
       "      <td>...</td>\n",
       "      <td>...</td>\n",
       "      <td>...</td>\n",
       "      <td>...</td>\n",
       "    </tr>\n",
       "    <tr>\n",
       "      <th>813</th>\n",
       "      <td>9682444</td>\n",
       "      <td>0</td>\n",
       "      <td>0</td>\n",
       "      <td>0</td>\n",
       "      <td>0</td>\n",
       "      <td>0</td>\n",
       "      <td>0</td>\n",
       "      <td>0</td>\n",
       "      <td>0</td>\n",
       "      <td>0</td>\n",
       "      <td>...</td>\n",
       "      <td>0</td>\n",
       "      <td>0</td>\n",
       "      <td>0</td>\n",
       "      <td>0</td>\n",
       "      <td>0</td>\n",
       "      <td>0</td>\n",
       "      <td>0</td>\n",
       "      <td>0</td>\n",
       "      <td>0</td>\n",
       "      <td>[0, 0, 0, 0, 0, 0, 0, 0, 0, 0, 0, 0, 0, 0, 0, ...</td>\n",
       "    </tr>\n",
       "    <tr>\n",
       "      <th>814</th>\n",
       "      <td>2833190</td>\n",
       "      <td>0</td>\n",
       "      <td>0</td>\n",
       "      <td>0</td>\n",
       "      <td>0</td>\n",
       "      <td>0</td>\n",
       "      <td>0</td>\n",
       "      <td>0</td>\n",
       "      <td>0</td>\n",
       "      <td>1</td>\n",
       "      <td>...</td>\n",
       "      <td>1</td>\n",
       "      <td>0</td>\n",
       "      <td>0</td>\n",
       "      <td>1</td>\n",
       "      <td>0</td>\n",
       "      <td>0</td>\n",
       "      <td>1</td>\n",
       "      <td>1</td>\n",
       "      <td>1</td>\n",
       "      <td>[0, 0, 0, 0, 0, 0, 0, 0, 1, 0, 0, 0, 0, 1, 0, ...</td>\n",
       "    </tr>\n",
       "    <tr>\n",
       "      <th>815</th>\n",
       "      <td>5150678</td>\n",
       "      <td>0</td>\n",
       "      <td>0</td>\n",
       "      <td>0</td>\n",
       "      <td>1</td>\n",
       "      <td>0</td>\n",
       "      <td>0</td>\n",
       "      <td>0</td>\n",
       "      <td>0</td>\n",
       "      <td>1</td>\n",
       "      <td>...</td>\n",
       "      <td>0</td>\n",
       "      <td>0</td>\n",
       "      <td>0</td>\n",
       "      <td>0</td>\n",
       "      <td>0</td>\n",
       "      <td>0</td>\n",
       "      <td>1</td>\n",
       "      <td>1</td>\n",
       "      <td>0</td>\n",
       "      <td>[0, 0, 0, 1, 0, 0, 0, 0, 1, 0, 0, 1, 0, 0, 0, ...</td>\n",
       "    </tr>\n",
       "    <tr>\n",
       "      <th>816</th>\n",
       "      <td>5506362</td>\n",
       "      <td>0</td>\n",
       "      <td>0</td>\n",
       "      <td>0</td>\n",
       "      <td>0</td>\n",
       "      <td>0</td>\n",
       "      <td>0</td>\n",
       "      <td>0</td>\n",
       "      <td>0</td>\n",
       "      <td>0</td>\n",
       "      <td>...</td>\n",
       "      <td>0</td>\n",
       "      <td>0</td>\n",
       "      <td>0</td>\n",
       "      <td>1</td>\n",
       "      <td>0</td>\n",
       "      <td>0</td>\n",
       "      <td>0</td>\n",
       "      <td>0</td>\n",
       "      <td>0</td>\n",
       "      <td>[0, 0, 0, 0, 0, 0, 0, 0, 0, 0, 0, 0, 0, 0, 0, ...</td>\n",
       "    </tr>\n",
       "    <tr>\n",
       "      <th>817</th>\n",
       "      <td>5701536</td>\n",
       "      <td>0</td>\n",
       "      <td>0</td>\n",
       "      <td>0</td>\n",
       "      <td>0</td>\n",
       "      <td>0</td>\n",
       "      <td>0</td>\n",
       "      <td>0</td>\n",
       "      <td>1</td>\n",
       "      <td>1</td>\n",
       "      <td>...</td>\n",
       "      <td>0</td>\n",
       "      <td>0</td>\n",
       "      <td>0</td>\n",
       "      <td>1</td>\n",
       "      <td>0</td>\n",
       "      <td>0</td>\n",
       "      <td>0</td>\n",
       "      <td>1</td>\n",
       "      <td>1</td>\n",
       "      <td>[0, 0, 0, 0, 0, 0, 0, 1, 1, 0, 0, 1, 0, 1, 0, ...</td>\n",
       "    </tr>\n",
       "  </tbody>\n",
       "</table>\n",
       "<p>818 rows × 150 columns</p>\n",
       "</div>\n",
       "      <button class=\"colab-df-convert\" onclick=\"convertToInteractive('df-35edf22b-9b6c-41cc-b700-6c7e903be29c')\"\n",
       "              title=\"Convert this dataframe to an interactive table.\"\n",
       "              style=\"display:none;\">\n",
       "        \n",
       "  <svg xmlns=\"http://www.w3.org/2000/svg\" height=\"24px\"viewBox=\"0 0 24 24\"\n",
       "       width=\"24px\">\n",
       "    <path d=\"M0 0h24v24H0V0z\" fill=\"none\"/>\n",
       "    <path d=\"M18.56 5.44l.94 2.06.94-2.06 2.06-.94-2.06-.94-.94-2.06-.94 2.06-2.06.94zm-11 1L8.5 8.5l.94-2.06 2.06-.94-2.06-.94L8.5 2.5l-.94 2.06-2.06.94zm10 10l.94 2.06.94-2.06 2.06-.94-2.06-.94-.94-2.06-.94 2.06-2.06.94z\"/><path d=\"M17.41 7.96l-1.37-1.37c-.4-.4-.92-.59-1.43-.59-.52 0-1.04.2-1.43.59L10.3 9.45l-7.72 7.72c-.78.78-.78 2.05 0 2.83L4 21.41c.39.39.9.59 1.41.59.51 0 1.02-.2 1.41-.59l7.78-7.78 2.81-2.81c.8-.78.8-2.07 0-2.86zM5.41 20L4 18.59l7.72-7.72 1.47 1.35L5.41 20z\"/>\n",
       "  </svg>\n",
       "      </button>\n",
       "      \n",
       "  <style>\n",
       "    .colab-df-container {\n",
       "      display:flex;\n",
       "      flex-wrap:wrap;\n",
       "      gap: 12px;\n",
       "    }\n",
       "\n",
       "    .colab-df-convert {\n",
       "      background-color: #E8F0FE;\n",
       "      border: none;\n",
       "      border-radius: 50%;\n",
       "      cursor: pointer;\n",
       "      display: none;\n",
       "      fill: #1967D2;\n",
       "      height: 32px;\n",
       "      padding: 0 0 0 0;\n",
       "      width: 32px;\n",
       "    }\n",
       "\n",
       "    .colab-df-convert:hover {\n",
       "      background-color: #E2EBFA;\n",
       "      box-shadow: 0px 1px 2px rgba(60, 64, 67, 0.3), 0px 1px 3px 1px rgba(60, 64, 67, 0.15);\n",
       "      fill: #174EA6;\n",
       "    }\n",
       "\n",
       "    [theme=dark] .colab-df-convert {\n",
       "      background-color: #3B4455;\n",
       "      fill: #D2E3FC;\n",
       "    }\n",
       "\n",
       "    [theme=dark] .colab-df-convert:hover {\n",
       "      background-color: #434B5C;\n",
       "      box-shadow: 0px 1px 3px 1px rgba(0, 0, 0, 0.15);\n",
       "      filter: drop-shadow(0px 1px 2px rgba(0, 0, 0, 0.3));\n",
       "      fill: #FFFFFF;\n",
       "    }\n",
       "  </style>\n",
       "\n",
       "      <script>\n",
       "        const buttonEl =\n",
       "          document.querySelector('#df-35edf22b-9b6c-41cc-b700-6c7e903be29c button.colab-df-convert');\n",
       "        buttonEl.style.display =\n",
       "          google.colab.kernel.accessAllowed ? 'block' : 'none';\n",
       "\n",
       "        async function convertToInteractive(key) {\n",
       "          const element = document.querySelector('#df-35edf22b-9b6c-41cc-b700-6c7e903be29c');\n",
       "          const dataTable =\n",
       "            await google.colab.kernel.invokeFunction('convertToInteractive',\n",
       "                                                     [key], {});\n",
       "          if (!dataTable) return;\n",
       "\n",
       "          const docLinkHtml = 'Like what you see? Visit the ' +\n",
       "            '<a target=\"_blank\" href=https://colab.research.google.com/notebooks/data_table.ipynb>data table notebook</a>'\n",
       "            + ' to learn more about interactive tables.';\n",
       "          element.innerHTML = '';\n",
       "          dataTable['output_type'] = 'display_data';\n",
       "          await google.colab.output.renderOutput(dataTable, element);\n",
       "          const docLink = document.createElement('div');\n",
       "          docLink.innerHTML = docLinkHtml;\n",
       "          element.appendChild(docLink);\n",
       "        }\n",
       "      </script>\n",
       "    </div>\n",
       "  </div>\n",
       "  "
      ],
      "text/plain": [
       "     item_id  1 star  2 star  3 star  4 star  5 star  accessible hotel  \\\n",
       "0    3217002       0       0       0       0       0                 0   \n",
       "1    3486086       0       0       0       0       0                 0   \n",
       "2    5497220       0       0       0       1       0                 1   \n",
       "3    6551710       0       0       0       0       0                 0   \n",
       "4    6680288       0       0       0       0       0                 0   \n",
       "..       ...     ...     ...     ...     ...     ...               ...   \n",
       "813  9682444       0       0       0       0       0                 0   \n",
       "814  2833190       0       0       0       0       0                 0   \n",
       "815  5150678       0       0       0       1       0                 0   \n",
       "816  5506362       0       0       0       0       0                 0   \n",
       "817  5701536       0       0       0       0       0                 0   \n",
       "\n",
       "     accessible parking  adults only  air conditioning  ...  terrace (hotel)  \\\n",
       "0                     0            0                 1  ...                1   \n",
       "1                     0            0                 0  ...                0   \n",
       "2                     0            0                 1  ...                0   \n",
       "3                     0            1                 0  ...                1   \n",
       "4                     0            0                 1  ...                1   \n",
       "..                  ...          ...               ...  ...              ...   \n",
       "813                   0            0                 0  ...                0   \n",
       "814                   0            0                 1  ...                1   \n",
       "815                   0            0                 1  ...                0   \n",
       "816                   0            0                 0  ...                0   \n",
       "817                   0            1                 1  ...                0   \n",
       "\n",
       "     theme hotel  towels  very good rating  volleyball  washing machine  \\\n",
       "0              0       0                 1           0                0   \n",
       "1              0       0                 0           0                0   \n",
       "2              0       0                 1           0                0   \n",
       "3              0       0                 0           0                1   \n",
       "4              0       0                 1           0                1   \n",
       "..           ...     ...               ...         ...              ...   \n",
       "813            0       0                 0           0                0   \n",
       "814            0       0                 1           0                0   \n",
       "815            0       0                 0           0                0   \n",
       "816            0       0                 1           0                0   \n",
       "817            0       0                 1           0                0   \n",
       "\n",
       "     wheelchair accessible  wifi (public areas)  wifi (rooms)  \\\n",
       "0                        0                    1             1   \n",
       "1                        0                    0             0   \n",
       "2                        1                    1             1   \n",
       "3                        0                    0             1   \n",
       "4                        0                    1             1   \n",
       "..                     ...                  ...           ...   \n",
       "813                      0                    0             0   \n",
       "814                      1                    1             1   \n",
       "815                      1                    1             0   \n",
       "816                      0                    0             0   \n",
       "817                      0                    1             1   \n",
       "\n",
       "                                         list_metadata  \n",
       "0    [0, 0, 0, 0, 0, 0, 0, 0, 1, 0, 0, 0, 0, 1, 0, ...  \n",
       "1    [0, 0, 0, 0, 0, 0, 0, 0, 0, 0, 0, 0, 0, 0, 0, ...  \n",
       "2    [0, 0, 0, 1, 0, 1, 0, 0, 1, 0, 0, 0, 1, 1, 0, ...  \n",
       "3    [0, 0, 0, 0, 0, 0, 0, 1, 0, 1, 0, 1, 0, 0, 0, ...  \n",
       "4    [0, 0, 0, 0, 0, 0, 0, 0, 1, 1, 0, 1, 0, 1, 0, ...  \n",
       "..                                                 ...  \n",
       "813  [0, 0, 0, 0, 0, 0, 0, 0, 0, 0, 0, 0, 0, 0, 0, ...  \n",
       "814  [0, 0, 0, 0, 0, 0, 0, 0, 1, 0, 0, 0, 0, 1, 0, ...  \n",
       "815  [0, 0, 0, 1, 0, 0, 0, 0, 1, 0, 0, 1, 0, 0, 0, ...  \n",
       "816  [0, 0, 0, 0, 0, 0, 0, 0, 0, 0, 0, 0, 0, 0, 0, ...  \n",
       "817  [0, 0, 0, 0, 0, 0, 0, 1, 1, 0, 0, 1, 0, 1, 0, ...  \n",
       "\n",
       "[818 rows x 150 columns]"
      ]
     },
     "execution_count": 141,
     "metadata": {},
     "output_type": "execute_result"
    }
   ],
   "source": [
    "df_metadata"
   ]
  },
  {
   "cell_type": "code",
   "execution_count": 142,
   "metadata": {
    "colab": {
     "base_uri": "https://localhost:8080/",
     "height": 506
    },
    "id": "hvixh-3b9QME",
    "outputId": "64aaf4ec-b25a-4657-e414-4e0d2b58bcb7",
    "pycharm": {
     "name": "#%%\n"
    }
   },
   "outputs": [
    {
     "name": "stdout",
     "output_type": "stream",
     "text": [
      "DataFrame: env_data_frame,  (8186, 5)\n",
      "DataFrame: interactions_data_frame,  (10898, 9)\n"
     ]
    },
    {
     "name": "stderr",
     "output_type": "stream",
     "text": [
      "/usr/local/lib/python3.7/dist-packages/gym/utils/passive_env_checker.py:32: UserWarning: \u001B[33mWARN: A Box observation space has an unconventional shape (neither an image, nor a 1D vector). We recommend flattening the observation to have only a 1D vector or use a custom policy to properly process the data. Actual observation shape: (778, 148)\u001B[0m\n",
      "  \"A Box observation space has an unconventional shape (neither an image, nor a 1D vector). \"\n",
      "/usr/local/lib/python3.7/dist-packages/gym/core.py:318: DeprecationWarning: \u001B[33mWARN: Initializing wrapper in old step API which returns one bool instead of two. It is recommended to set `new_step_api=True` to use new step API. This will be the default behaviour in future.\u001B[0m\n",
      "  \"Initializing wrapper in old step API which returns one bool instead of two. It is recommended to set `new_step_api=True` to use new step API. This will be the default behaviour in future.\"\n",
      "/usr/local/lib/python3.7/dist-packages/gym/wrappers/step_api_compatibility.py:40: DeprecationWarning: \u001B[33mWARN: Initializing environment in old step API which returns one bool instead of two. It is recommended to set `new_step_api=True` to use new step API. This will be the default behaviour in future.\u001B[0m\n",
      "  \"Initializing environment in old step API which returns one bool instead of two. It is recommended to set `new_step_api=True` to use new step API. This will be the default behaviour in future.\"\n",
      "/usr/local/lib/python3.7/dist-packages/gym/core.py:257: DeprecationWarning: \u001B[33mWARN: Function `env.seed(seed)` is marked as deprecated and will be removed in the future. Please use `env.reset(seed=seed)` instead.\u001B[0m\n",
      "  \"Function `env.seed(seed)` is marked as deprecated and will be removed in the future. \"\n"
     ]
    },
    {
     "ename": "TypeError",
     "evalue": "ignored",
     "output_type": "error",
     "traceback": [
      "\u001B[0;31m---------------------------------------------------------------------------\u001B[0m",
      "\u001B[0;31mTypeError\u001B[0m                                 Traceback (most recent call last)",
      "\u001B[0;32m<ipython-input-142-53df14f35e81>\u001B[0m in \u001B[0;36m<module>\u001B[0;34m\u001B[0m\n\u001B[0;32m----> 1\u001B[0;31m \u001B[0mjob_train\u001B[0m\u001B[0;34m.\u001B[0m\u001B[0mrun\u001B[0m\u001B[0;34m(\u001B[0m\u001B[0;34m)\u001B[0m\u001B[0;34m\u001B[0m\u001B[0;34m\u001B[0m\u001B[0m\n\u001B[0m",
      "\u001B[0;32m/usr/local/lib/python3.7/dist-packages/mars_gym/simulation/interaction.py\u001B[0m in \u001B[0;36mrun\u001B[0;34m(self)\u001B[0m\n\u001B[1;32m    467\u001B[0m         \u001B[0mself\u001B[0m\u001B[0;34m.\u001B[0m\u001B[0menv\u001B[0m\u001B[0;34m.\u001B[0m\u001B[0mseed\u001B[0m\u001B[0;34m(\u001B[0m\u001B[0;36m42\u001B[0m\u001B[0;34m)\u001B[0m\u001B[0;34m\u001B[0m\u001B[0;34m\u001B[0m\u001B[0m\n\u001B[1;32m    468\u001B[0m \u001B[0;34m\u001B[0m\u001B[0m\n\u001B[0;32m--> 469\u001B[0;31m         \u001B[0mself\u001B[0m\u001B[0;34m.\u001B[0m\u001B[0magent\u001B[0m\u001B[0;34m:\u001B[0m \u001B[0mBanditAgent\u001B[0m \u001B[0;34m=\u001B[0m \u001B[0mself\u001B[0m\u001B[0;34m.\u001B[0m\u001B[0mcreate_agent\u001B[0m\u001B[0;34m(\u001B[0m\u001B[0;34m)\u001B[0m\u001B[0;34m\u001B[0m\u001B[0;34m\u001B[0m\u001B[0m\n\u001B[0m\u001B[1;32m    470\u001B[0m \u001B[0;34m\u001B[0m\u001B[0m\n\u001B[1;32m    471\u001B[0m         \u001B[0mrewards\u001B[0m \u001B[0;34m=\u001B[0m \u001B[0;34m[\u001B[0m\u001B[0;34m]\u001B[0m\u001B[0;34m\u001B[0m\u001B[0;34m\u001B[0m\u001B[0m\n",
      "\u001B[0;32m/usr/local/lib/python3.7/dist-packages/mars_gym/simulation/interaction.py\u001B[0m in \u001B[0;36mcreate_agent\u001B[0;34m(self)\u001B[0m\n\u001B[1;32m     66\u001B[0m \u001B[0;34m\u001B[0m\u001B[0m\n\u001B[1;32m     67\u001B[0m     \u001B[0;32mdef\u001B[0m \u001B[0mcreate_agent\u001B[0m\u001B[0;34m(\u001B[0m\u001B[0mself\u001B[0m\u001B[0;34m)\u001B[0m \u001B[0;34m->\u001B[0m \u001B[0mBanditAgent\u001B[0m\u001B[0;34m:\u001B[0m\u001B[0;34m\u001B[0m\u001B[0;34m\u001B[0m\u001B[0m\n\u001B[0;32m---> 68\u001B[0;31m         \u001B[0mbandit_class\u001B[0m \u001B[0;34m=\u001B[0m \u001B[0mload_attr\u001B[0m\u001B[0;34m(\u001B[0m\u001B[0mself\u001B[0m\u001B[0;34m.\u001B[0m\u001B[0mbandit_policy_class\u001B[0m\u001B[0;34m,\u001B[0m \u001B[0mType\u001B[0m\u001B[0;34m[\u001B[0m\u001B[0mBanditPolicy\u001B[0m\u001B[0;34m]\u001B[0m\u001B[0;34m)\u001B[0m\u001B[0;34m\u001B[0m\u001B[0;34m\u001B[0m\u001B[0m\n\u001B[0m\u001B[1;32m     69\u001B[0m         bandit = bandit_class(\n\u001B[1;32m     70\u001B[0m             \u001B[0mreward_model\u001B[0m\u001B[0;34m=\u001B[0m\u001B[0mself\u001B[0m\u001B[0;34m.\u001B[0m\u001B[0mcreate_module\u001B[0m\u001B[0;34m(\u001B[0m\u001B[0;34m)\u001B[0m\u001B[0;34m,\u001B[0m \u001B[0;34m**\u001B[0m\u001B[0mself\u001B[0m\u001B[0;34m.\u001B[0m\u001B[0mbandit_policy_params\u001B[0m\u001B[0;34m\u001B[0m\u001B[0;34m\u001B[0m\u001B[0m\n",
      "\u001B[0;32m/usr/local/lib/python3.7/dist-packages/mars_gym/utils/reflection.py\u001B[0m in \u001B[0;36mload_attr\u001B[0;34m(attr_path, expected_type)\u001B[0m\n\u001B[1;32m     25\u001B[0m             \u001B[0;32mraise\u001B[0m \u001B[0mValueError\u001B[0m\u001B[0;34m(\u001B[0m\u001B[0;34mf\"{attr_path} should be a sub class of {expected_type}\"\u001B[0m\u001B[0;34m)\u001B[0m\u001B[0;34m\u001B[0m\u001B[0;34m\u001B[0m\u001B[0m\n\u001B[1;32m     26\u001B[0m     \u001B[0;32melse\u001B[0m\u001B[0;34m:\u001B[0m\u001B[0;34m\u001B[0m\u001B[0;34m\u001B[0m\u001B[0m\n\u001B[0;32m---> 27\u001B[0;31m         \u001B[0;32mif\u001B[0m \u001B[0;32mnot\u001B[0m \u001B[0misinstance\u001B[0m\u001B[0;34m(\u001B[0m\u001B[0mattr\u001B[0m\u001B[0;34m,\u001B[0m \u001B[0mexpected_type\u001B[0m\u001B[0;34m)\u001B[0m\u001B[0;34m:\u001B[0m\u001B[0;34m\u001B[0m\u001B[0;34m\u001B[0m\u001B[0m\n\u001B[0m\u001B[1;32m     28\u001B[0m             \u001B[0;32mraise\u001B[0m \u001B[0mValueError\u001B[0m\u001B[0;34m(\u001B[0m\u001B[0;34mf\"{attr_path} should be of type {expected_type}\"\u001B[0m\u001B[0;34m)\u001B[0m\u001B[0;34m\u001B[0m\u001B[0;34m\u001B[0m\u001B[0m\n\u001B[1;32m     29\u001B[0m \u001B[0;34m\u001B[0m\u001B[0m\n",
      "\u001B[0;32m/usr/lib/python3.7/typing.py\u001B[0m in \u001B[0;36m__instancecheck__\u001B[0;34m(self, obj)\u001B[0m\n\u001B[1;32m    714\u001B[0m \u001B[0;34m\u001B[0m\u001B[0m\n\u001B[1;32m    715\u001B[0m     \u001B[0;32mdef\u001B[0m \u001B[0m__instancecheck__\u001B[0m\u001B[0;34m(\u001B[0m\u001B[0mself\u001B[0m\u001B[0;34m,\u001B[0m \u001B[0mobj\u001B[0m\u001B[0;34m)\u001B[0m\u001B[0;34m:\u001B[0m\u001B[0;34m\u001B[0m\u001B[0;34m\u001B[0m\u001B[0m\n\u001B[0;32m--> 716\u001B[0;31m         \u001B[0;32mreturn\u001B[0m \u001B[0mself\u001B[0m\u001B[0;34m.\u001B[0m\u001B[0m__subclasscheck__\u001B[0m\u001B[0;34m(\u001B[0m\u001B[0mtype\u001B[0m\u001B[0;34m(\u001B[0m\u001B[0mobj\u001B[0m\u001B[0;34m)\u001B[0m\u001B[0;34m)\u001B[0m\u001B[0;34m\u001B[0m\u001B[0;34m\u001B[0m\u001B[0m\n\u001B[0m\u001B[1;32m    717\u001B[0m \u001B[0;34m\u001B[0m\u001B[0m\n\u001B[1;32m    718\u001B[0m     \u001B[0;32mdef\u001B[0m \u001B[0m__subclasscheck__\u001B[0m\u001B[0;34m(\u001B[0m\u001B[0mself\u001B[0m\u001B[0;34m,\u001B[0m \u001B[0mcls\u001B[0m\u001B[0;34m)\u001B[0m\u001B[0;34m:\u001B[0m\u001B[0;34m\u001B[0m\u001B[0;34m\u001B[0m\u001B[0m\n",
      "\u001B[0;32m/usr/lib/python3.7/typing.py\u001B[0m in \u001B[0;36m__subclasscheck__\u001B[0;34m(self, cls)\u001B[0m\n\u001B[1;32m    722\u001B[0m             \u001B[0;32mif\u001B[0m \u001B[0mcls\u001B[0m\u001B[0;34m.\u001B[0m\u001B[0m_special\u001B[0m\u001B[0;34m:\u001B[0m\u001B[0;34m\u001B[0m\u001B[0;34m\u001B[0m\u001B[0m\n\u001B[1;32m    723\u001B[0m                 \u001B[0;32mreturn\u001B[0m \u001B[0missubclass\u001B[0m\u001B[0;34m(\u001B[0m\u001B[0mcls\u001B[0m\u001B[0;34m.\u001B[0m\u001B[0m__origin__\u001B[0m\u001B[0;34m,\u001B[0m \u001B[0mself\u001B[0m\u001B[0;34m.\u001B[0m\u001B[0m__origin__\u001B[0m\u001B[0;34m)\u001B[0m\u001B[0;34m\u001B[0m\u001B[0;34m\u001B[0m\u001B[0m\n\u001B[0;32m--> 724\u001B[0;31m         raise TypeError(\"Subscripted generics cannot be used with\"\n\u001B[0m\u001B[1;32m    725\u001B[0m                         \" class and instance checks\")\n\u001B[1;32m    726\u001B[0m \u001B[0;34m\u001B[0m\u001B[0m\n",
      "\u001B[0;31mTypeError\u001B[0m: Subscripted generics cannot be used with class and instance checks"
     ]
    }
   ],
   "source": [
    "job_train.run()"
   ]
  },
  {
   "cell_type": "code",
   "execution_count": null,
   "metadata": {
    "id": "CN4OH8a15X_2",
    "pycharm": {
     "name": "#%%\n"
    }
   },
   "outputs": [],
   "source": [
    " !mars-gym run interaction \\\n",
    "--project samples.trivago_simple.config.trivago_rio \\\n",
    "--recommender-module-class samples.trivago_simple.simulation.SimpleLinearModel \\\n",
    "--recommender-extra-params '{\"n_factors\": 10, \"metadata_size\": 148, \"window_hist_size\": 5}' \\\n",
    "--bandit-policy-class samples.trivago_simple.simulation.EGreedyPolicy \\\n",
    "--bandit-policy-params '{\"epsilon\": 0.1}' \\\n",
    "--obs-batch-size 100"
   ]
  },
  {
   "cell_type": "code",
   "execution_count": null,
   "metadata": {
    "id": "JjyGAZ765X9Q",
    "pycharm": {
     "name": "#%%\n"
    }
   },
   "outputs": [],
   "source": []
  },
  {
   "cell_type": "code",
   "execution_count": null,
   "metadata": {
    "id": "A2a7BoPW5Xvq",
    "pycharm": {
     "name": "#%%\n"
    }
   },
   "outputs": [],
   "source": []
  },
  {
   "cell_type": "code",
   "execution_count": null,
   "metadata": {
    "id": "Unhe78DT6-Zs",
    "pycharm": {
     "name": "#%%\n"
    }
   },
   "outputs": [],
   "source": [
    "import sys"
   ]
  },
  {
   "cell_type": "code",
   "execution_count": null,
   "metadata": {
    "id": "uZ1BPlA20-e7",
    "pycharm": {
     "name": "#%%\n"
    }
   },
   "outputs": [],
   "source": [
    "!python --version"
   ]
  },
  {
   "cell_type": "code",
   "execution_count": null,
   "metadata": {
    "id": "jUD49L8k7vEg",
    "pycharm": {
     "name": "#%%\n"
    }
   },
   "outputs": [],
   "source": [
    "sys.path.insert(1,'samples')"
   ]
  },
  {
   "cell_type": "code",
   "execution_count": null,
   "metadata": {
    "id": "OtHXp7JI9HN6",
    "pycharm": {
     "name": "#%%\n"
    }
   },
   "outputs": [],
   "source": [
    "import samples"
   ]
  },
  {
   "cell_type": "code",
   "execution_count": null,
   "metadata": {
    "id": "GtzT8bpN_lrK",
    "pycharm": {
     "name": "#%%\n"
    }
   },
   "outputs": [],
   "source": [
    "type(sys.path)"
   ]
  },
  {
   "cell_type": "code",
   "execution_count": null,
   "metadata": {
    "id": "ohYLx8o5_132",
    "pycharm": {
     "name": "#%%\n"
    }
   },
   "outputs": [],
   "source": [
    "df"
   ]
  }
 ],
 "metadata": {
  "colab": {
   "collapsed_sections": [],
   "provenance": []
  },
  "gpuClass": "standard",
  "kernelspec": {
   "display_name": "Python 3",
   "language": "python",
   "name": "python3"
  },
  "language_info": {
   "codemirror_mode": {
    "name": "ipython",
    "version": 3
   },
   "file_extension": ".py",
   "mimetype": "text/x-python",
   "name": "python",
   "nbconvert_exporter": "python",
   "pygments_lexer": "ipython3",
   "version": "3.6.13"
  }
 },
 "nbformat": 4,
 "nbformat_minor": 1
}