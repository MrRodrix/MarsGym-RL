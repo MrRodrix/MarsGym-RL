{
 "cells": [
  {
   "cell_type": "markdown",
   "metadata": {},
   "source": [
    "# Quick Start"
   ]
  },
  {
   "cell_type": "code",
   "execution_count": 1,
   "metadata": {},
   "outputs": [],
   "source": [
    "import sys\n",
    "sys.path.append('../../')"
   ]
  },
  {
   "cell_type": "code",
   "execution_count": 3,
   "metadata": {
    "tags": []
   },
   "outputs": [
    {
     "name": "stdout",
     "output_type": "stream",
     "text": [
      " O volume na unidade C nÆo tem nome.\n",
      " O N£mero de S‚rie do Volume ‚ 1800-CA17\n",
      "\n",
      " Pasta de C:\\Users\\Rodrigues Neto\\Downloads\\mars-gym-master\\samples\\notebooks\n",
      "\n",
      "09/05/2022  03:43 PM    <DIR>          .\n",
      "12/05/2020  02:01 PM    <DIR>          ..\n",
      "09/05/2022  03:43 PM    <DIR>          .ipynb_checkpoints\n",
      "12/05/2020  02:01 PM            12,284 QuickStart.ipynb\n",
      "12/05/2020  02:01 PM            11,540 Yoochose_dataset.ipynb\n",
      "               2 arquivo(s)         23,824 bytes\n",
      "               3 pasta(s)   102,871,195,648 bytes dispon¡veis\n"
     ]
    }
   ],
   "source": [
    "ls"
   ]
  },
  {
   "cell_type": "markdown",
   "metadata": {},
   "source": [
    "## Dataset"
   ]
  },
  {
   "cell_type": "code",
   "execution_count": 4,
   "metadata": {
    "tags": []
   },
   "outputs": [
    {
     "ename": "ModuleNotFoundError",
     "evalue": "No module named 'mars_gym'",
     "output_type": "error",
     "traceback": [
      "\u001b[1;31m---------------------------------------------------------------------------\u001b[0m",
      "\u001b[1;31mModuleNotFoundError\u001b[0m                       Traceback (most recent call last)",
      "Input \u001b[1;32mIn [4]\u001b[0m, in \u001b[0;36m<cell line: 1>\u001b[1;34m()\u001b[0m\n\u001b[1;32m----> 1\u001b[0m \u001b[38;5;28;01mfrom\u001b[39;00m \u001b[38;5;21;01msrc\u001b[39;00m\u001b[38;5;21;01m.\u001b[39;00m\u001b[38;5;21;01mmars_gym\u001b[39;00m\u001b[38;5;21;01m.\u001b[39;00m\u001b[38;5;21;01mdata\u001b[39;00m \u001b[38;5;28;01mimport\u001b[39;00m utils\n",
      "File \u001b[1;32m~\\Downloads\\mars-gym-master\\samples\\notebooks\\../..\\src\\mars_gym\\__init__.py:3\u001b[0m, in \u001b[0;36m<module>\u001b[1;34m\u001b[0m\n\u001b[0;32m      1\u001b[0m __version__ \u001b[38;5;241m=\u001b[39m \u001b[38;5;124m'\u001b[39m\u001b[38;5;124m0.1.0\u001b[39m\u001b[38;5;124m'\u001b[39m\n\u001b[1;32m----> 3\u001b[0m \u001b[38;5;28;01mimport\u001b[39;00m \u001b[38;5;21;01mmars_gym\u001b[39;00m\u001b[38;5;21;01m.\u001b[39;00m\u001b[38;5;21;01mtorch\u001b[39;00m\u001b[38;5;21;01m.\u001b[39;00m\u001b[38;5;21;01mmetrics\u001b[39;00m\n",
      "\u001b[1;31mModuleNotFoundError\u001b[0m: No module named 'mars_gym'"
     ]
    }
   ],
   "source": [
    "from mars_gym.data import utils "
   ]
  },
  {
   "cell_type": "code",
   "execution_count": 4,
   "metadata": {},
   "outputs": [
    {
     "data": {
      "text/plain": [
       "['random',\n",
       " 'yoochoose',\n",
       " 'processed_yoochoose',\n",
       " 'trivago_rio',\n",
       " 'processed_trivago_rio']"
      ]
     },
     "execution_count": 4,
     "metadata": {},
     "output_type": "execute_result"
    }
   ],
   "source": [
    "utils.datasets()"
   ]
  },
  {
   "cell_type": "code",
   "execution_count": 13,
   "metadata": {
    "tags": []
   },
   "outputs": [
    {
     "name": "stderr",
     "output_type": "stream",
     "text": [
      "3.55kKB [00:00, 3.79kKB/s]\n",
      "605KB [00:00, 2.36kKB/s]\n"
     ]
    }
   ],
   "source": [
    "df, df_meta = utils.load_dataset('processed_trivago_rio')"
   ]
  },
  {
   "cell_type": "code",
   "execution_count": 14,
   "metadata": {},
   "outputs": [
    {
     "data": {
      "text/html": [
       "<div>\n",
       "<style scoped>\n",
       "    .dataframe tbody tr th:only-of-type {\n",
       "        vertical-align: middle;\n",
       "    }\n",
       "\n",
       "    .dataframe tbody tr th {\n",
       "        vertical-align: top;\n",
       "    }\n",
       "\n",
       "    .dataframe thead th {\n",
       "        text-align: right;\n",
       "    }\n",
       "</style>\n",
       "<table border=\"1\" class=\"dataframe\">\n",
       "  <thead>\n",
       "    <tr style=\"text-align: right;\">\n",
       "      <th></th>\n",
       "      <th>session_id</th>\n",
       "      <th>user_id</th>\n",
       "      <th>timestamp</th>\n",
       "      <th>action_type</th>\n",
       "      <th>item_id</th>\n",
       "      <th>impressions</th>\n",
       "      <th>list_reference_item</th>\n",
       "      <th>pos_item_id</th>\n",
       "      <th>clicked</th>\n",
       "    </tr>\n",
       "  </thead>\n",
       "  <tbody>\n",
       "    <tr>\n",
       "      <td>0</td>\n",
       "      <td>05fe82b496fb9</td>\n",
       "      <td>M1Z13DD0P2KH</td>\n",
       "      <td>1541422443</td>\n",
       "      <td>clickout item</td>\n",
       "      <td>4304686</td>\n",
       "      <td>['109351', '150138', '4345728', '105014', '478...</td>\n",
       "      <td>['', '', '', '', '']</td>\n",
       "      <td>7</td>\n",
       "      <td>1.0</td>\n",
       "    </tr>\n",
       "    <tr>\n",
       "      <td>1</td>\n",
       "      <td>05fe82b496fb9</td>\n",
       "      <td>M1Z13DD0P2KH</td>\n",
       "      <td>1541422474</td>\n",
       "      <td>clickout item</td>\n",
       "      <td>960255</td>\n",
       "      <td>['1475717', '5196406', '104880', '109351', '68...</td>\n",
       "      <td>['4304686', '', '', '', '']</td>\n",
       "      <td>20</td>\n",
       "      <td>1.0</td>\n",
       "    </tr>\n",
       "    <tr>\n",
       "      <td>2</td>\n",
       "      <td>05fe82b496fb9</td>\n",
       "      <td>M1Z13DD0P2KH</td>\n",
       "      <td>1541423039</td>\n",
       "      <td>clickout item</td>\n",
       "      <td>2188598</td>\n",
       "      <td>['104558', '326781', '104786', '1223390', '206...</td>\n",
       "      <td>['4304686', '960255', '', '', '']</td>\n",
       "      <td>9</td>\n",
       "      <td>1.0</td>\n",
       "    </tr>\n",
       "    <tr>\n",
       "      <td>3</td>\n",
       "      <td>05fe82b496fb9</td>\n",
       "      <td>M1Z13DD0P2KH</td>\n",
       "      <td>1541424631</td>\n",
       "      <td>clickout item</td>\n",
       "      <td>8459162</td>\n",
       "      <td>['105014', '5659850', '478121', '109351', '956...</td>\n",
       "      <td>['4304686', '960255', '2188598', '', '']</td>\n",
       "      <td>23</td>\n",
       "      <td>1.0</td>\n",
       "    </tr>\n",
       "    <tr>\n",
       "      <td>4</td>\n",
       "      <td>05fe82b496fb9</td>\n",
       "      <td>M1Z13DD0P2KH</td>\n",
       "      <td>1541424685</td>\n",
       "      <td>interaction item info</td>\n",
       "      <td>8459162</td>\n",
       "      <td>NaN</td>\n",
       "      <td>['4304686', '960255', '2188598', '8459162', '']</td>\n",
       "      <td>-1</td>\n",
       "      <td>0.0</td>\n",
       "    </tr>\n",
       "  </tbody>\n",
       "</table>\n",
       "</div>"
      ],
      "text/plain": [
       "      session_id       user_id   timestamp            action_type  item_id  \\\n",
       "0  05fe82b496fb9  M1Z13DD0P2KH  1541422443          clickout item  4304686   \n",
       "1  05fe82b496fb9  M1Z13DD0P2KH  1541422474          clickout item   960255   \n",
       "2  05fe82b496fb9  M1Z13DD0P2KH  1541423039          clickout item  2188598   \n",
       "3  05fe82b496fb9  M1Z13DD0P2KH  1541424631          clickout item  8459162   \n",
       "4  05fe82b496fb9  M1Z13DD0P2KH  1541424685  interaction item info  8459162   \n",
       "\n",
       "                                         impressions  \\\n",
       "0  ['109351', '150138', '4345728', '105014', '478...   \n",
       "1  ['1475717', '5196406', '104880', '109351', '68...   \n",
       "2  ['104558', '326781', '104786', '1223390', '206...   \n",
       "3  ['105014', '5659850', '478121', '109351', '956...   \n",
       "4                                                NaN   \n",
       "\n",
       "                               list_reference_item  pos_item_id  clicked  \n",
       "0                             ['', '', '', '', '']            7      1.0  \n",
       "1                      ['4304686', '', '', '', '']           20      1.0  \n",
       "2                ['4304686', '960255', '', '', '']            9      1.0  \n",
       "3         ['4304686', '960255', '2188598', '', '']           23      1.0  \n",
       "4  ['4304686', '960255', '2188598', '8459162', '']           -1      0.0  "
      ]
     },
     "execution_count": 14,
     "metadata": {},
     "output_type": "execute_result"
    }
   ],
   "source": [
    "df.head()"
   ]
  },
  {
   "cell_type": "code",
   "execution_count": 15,
   "metadata": {},
   "outputs": [
    {
     "data": {
      "text/html": [
       "<div>\n",
       "<style scoped>\n",
       "    .dataframe tbody tr th:only-of-type {\n",
       "        vertical-align: middle;\n",
       "    }\n",
       "\n",
       "    .dataframe tbody tr th {\n",
       "        vertical-align: top;\n",
       "    }\n",
       "\n",
       "    .dataframe thead th {\n",
       "        text-align: right;\n",
       "    }\n",
       "</style>\n",
       "<table border=\"1\" class=\"dataframe\">\n",
       "  <thead>\n",
       "    <tr style=\"text-align: right;\">\n",
       "      <th></th>\n",
       "      <th>Unnamed: 0</th>\n",
       "      <th>item_id</th>\n",
       "      <th>1 star</th>\n",
       "      <th>2 star</th>\n",
       "      <th>3 star</th>\n",
       "      <th>4 star</th>\n",
       "      <th>5 star</th>\n",
       "      <th>accessible hotel</th>\n",
       "      <th>accessible parking</th>\n",
       "      <th>adults only</th>\n",
       "      <th>...</th>\n",
       "      <th>terrace (hotel)</th>\n",
       "      <th>theme hotel</th>\n",
       "      <th>towels</th>\n",
       "      <th>very good rating</th>\n",
       "      <th>volleyball</th>\n",
       "      <th>washing machine</th>\n",
       "      <th>wheelchair accessible</th>\n",
       "      <th>wifi (public areas)</th>\n",
       "      <th>wifi (rooms)</th>\n",
       "      <th>list_metadata</th>\n",
       "    </tr>\n",
       "  </thead>\n",
       "  <tbody>\n",
       "    <tr>\n",
       "      <td>0</td>\n",
       "      <td>0</td>\n",
       "      <td>3217002</td>\n",
       "      <td>0</td>\n",
       "      <td>0</td>\n",
       "      <td>0</td>\n",
       "      <td>0</td>\n",
       "      <td>0</td>\n",
       "      <td>0</td>\n",
       "      <td>0</td>\n",
       "      <td>0</td>\n",
       "      <td>...</td>\n",
       "      <td>1</td>\n",
       "      <td>0</td>\n",
       "      <td>0</td>\n",
       "      <td>1</td>\n",
       "      <td>0</td>\n",
       "      <td>0</td>\n",
       "      <td>0</td>\n",
       "      <td>1</td>\n",
       "      <td>1</td>\n",
       "      <td>[0, 0, 0, 0, 0, 0, 0, 0, 1, 0, 0, 0, 0, 1, 0, ...</td>\n",
       "    </tr>\n",
       "    <tr>\n",
       "      <td>1</td>\n",
       "      <td>1</td>\n",
       "      <td>3486086</td>\n",
       "      <td>0</td>\n",
       "      <td>0</td>\n",
       "      <td>0</td>\n",
       "      <td>0</td>\n",
       "      <td>0</td>\n",
       "      <td>0</td>\n",
       "      <td>0</td>\n",
       "      <td>0</td>\n",
       "      <td>...</td>\n",
       "      <td>0</td>\n",
       "      <td>0</td>\n",
       "      <td>0</td>\n",
       "      <td>0</td>\n",
       "      <td>0</td>\n",
       "      <td>0</td>\n",
       "      <td>0</td>\n",
       "      <td>0</td>\n",
       "      <td>0</td>\n",
       "      <td>[0, 0, 0, 0, 0, 0, 0, 0, 0, 0, 0, 0, 0, 0, 0, ...</td>\n",
       "    </tr>\n",
       "    <tr>\n",
       "      <td>2</td>\n",
       "      <td>2</td>\n",
       "      <td>5497220</td>\n",
       "      <td>0</td>\n",
       "      <td>0</td>\n",
       "      <td>0</td>\n",
       "      <td>1</td>\n",
       "      <td>0</td>\n",
       "      <td>1</td>\n",
       "      <td>0</td>\n",
       "      <td>0</td>\n",
       "      <td>...</td>\n",
       "      <td>0</td>\n",
       "      <td>0</td>\n",
       "      <td>0</td>\n",
       "      <td>1</td>\n",
       "      <td>0</td>\n",
       "      <td>0</td>\n",
       "      <td>1</td>\n",
       "      <td>1</td>\n",
       "      <td>1</td>\n",
       "      <td>[0, 0, 0, 1, 0, 1, 0, 0, 1, 0, 0, 0, 1, 1, 0, ...</td>\n",
       "    </tr>\n",
       "    <tr>\n",
       "      <td>3</td>\n",
       "      <td>3</td>\n",
       "      <td>6551710</td>\n",
       "      <td>0</td>\n",
       "      <td>0</td>\n",
       "      <td>0</td>\n",
       "      <td>0</td>\n",
       "      <td>0</td>\n",
       "      <td>0</td>\n",
       "      <td>0</td>\n",
       "      <td>1</td>\n",
       "      <td>...</td>\n",
       "      <td>1</td>\n",
       "      <td>0</td>\n",
       "      <td>0</td>\n",
       "      <td>0</td>\n",
       "      <td>0</td>\n",
       "      <td>1</td>\n",
       "      <td>0</td>\n",
       "      <td>0</td>\n",
       "      <td>1</td>\n",
       "      <td>[0, 0, 0, 0, 0, 0, 0, 1, 0, 1, 0, 1, 0, 0, 0, ...</td>\n",
       "    </tr>\n",
       "    <tr>\n",
       "      <td>4</td>\n",
       "      <td>4</td>\n",
       "      <td>6680288</td>\n",
       "      <td>0</td>\n",
       "      <td>0</td>\n",
       "      <td>0</td>\n",
       "      <td>0</td>\n",
       "      <td>0</td>\n",
       "      <td>0</td>\n",
       "      <td>0</td>\n",
       "      <td>0</td>\n",
       "      <td>...</td>\n",
       "      <td>1</td>\n",
       "      <td>0</td>\n",
       "      <td>0</td>\n",
       "      <td>1</td>\n",
       "      <td>0</td>\n",
       "      <td>1</td>\n",
       "      <td>0</td>\n",
       "      <td>1</td>\n",
       "      <td>1</td>\n",
       "      <td>[0, 0, 0, 0, 0, 0, 0, 0, 1, 1, 0, 1, 0, 1, 0, ...</td>\n",
       "    </tr>\n",
       "  </tbody>\n",
       "</table>\n",
       "<p>5 rows × 151 columns</p>\n",
       "</div>"
      ],
      "text/plain": [
       "   Unnamed: 0  item_id  1 star  2 star  3 star  4 star  5 star  \\\n",
       "0           0  3217002       0       0       0       0       0   \n",
       "1           1  3486086       0       0       0       0       0   \n",
       "2           2  5497220       0       0       0       1       0   \n",
       "3           3  6551710       0       0       0       0       0   \n",
       "4           4  6680288       0       0       0       0       0   \n",
       "\n",
       "   accessible hotel  accessible parking  adults only  ...  terrace (hotel)  \\\n",
       "0                 0                   0            0  ...                1   \n",
       "1                 0                   0            0  ...                0   \n",
       "2                 1                   0            0  ...                0   \n",
       "3                 0                   0            1  ...                1   \n",
       "4                 0                   0            0  ...                1   \n",
       "\n",
       "   theme hotel  towels  very good rating  volleyball  washing machine  \\\n",
       "0            0       0                 1           0                0   \n",
       "1            0       0                 0           0                0   \n",
       "2            0       0                 1           0                0   \n",
       "3            0       0                 0           0                1   \n",
       "4            0       0                 1           0                1   \n",
       "\n",
       "   wheelchair accessible  wifi (public areas)  wifi (rooms)  \\\n",
       "0                      0                    1             1   \n",
       "1                      0                    0             0   \n",
       "2                      1                    1             1   \n",
       "3                      0                    0             1   \n",
       "4                      0                    1             1   \n",
       "\n",
       "                                       list_metadata  \n",
       "0  [0, 0, 0, 0, 0, 0, 0, 0, 1, 0, 0, 0, 0, 1, 0, ...  \n",
       "1  [0, 0, 0, 0, 0, 0, 0, 0, 0, 0, 0, 0, 0, 0, 0, ...  \n",
       "2  [0, 0, 0, 1, 0, 1, 0, 0, 1, 0, 0, 0, 1, 1, 0, ...  \n",
       "3  [0, 0, 0, 0, 0, 0, 0, 1, 0, 1, 0, 1, 0, 0, 0, ...  \n",
       "4  [0, 0, 0, 0, 0, 0, 0, 0, 1, 1, 0, 1, 0, 1, 0, ...  \n",
       "\n",
       "[5 rows x 151 columns]"
      ]
     },
     "execution_count": 15,
     "metadata": {},
     "output_type": "execute_result"
    }
   ],
   "source": [
    "df_meta.head()"
   ]
  },
  {
   "cell_type": "code",
   "execution_count": null,
   "metadata": {},
   "outputs": [],
   "source": []
  }
 ],
 "metadata": {
  "kernelspec": {
   "display_name": "Python 3 (ipykernel)",
   "language": "python",
   "name": "python3"
  },
  "language_info": {
   "codemirror_mode": {
    "name": "ipython",
    "version": 3
   },
   "file_extension": ".py",
   "mimetype": "text/x-python",
   "name": "python",
   "nbconvert_exporter": "python",
   "pygments_lexer": "ipython3",
   "version": "3.9.12"
  }
 },
 "nbformat": 4,
 "nbformat_minor": 2
}
